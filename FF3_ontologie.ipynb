{
 "cells": [
  {
   "cell_type": "markdown",
   "source": [
    "# III) Création d'une ontologie\n",
    "\n",
    "Pour ce faire, nous utiliserons le package `owlready2` qui permet de créer des ontologies en python. (https://linuxfr.org/news/owlready-un-module-python-pour-manipuler-les-ontologies-owl)\n",
    "Les données seront extraite de la base de données de WikiData, nous interrogerons cette base de données par l'API mis à disposition par la librairie `wikibaseintegrator` (https://github.com/LeMyst/WikibaseIntegrator#execute-sparql-queries)."
   ],
   "metadata": {
    "collapsed": false
   }
  },
  {
   "cell_type": "markdown",
   "source": [
    "Commençons par installer les packages nécessaires"
   ],
   "metadata": {
    "collapsed": false
   }
  },
  {
   "cell_type": "code",
   "execution_count": 1,
   "outputs": [],
   "source": [
    "# !pip install owlready2\n",
    "# !pip install wikibaseintegrator"
   ],
   "metadata": {
    "collapsed": false,
    "ExecuteTime": {
     "end_time": "2023-05-27T10:00:19.967610Z",
     "start_time": "2023-05-27T10:00:19.961340Z"
    }
   }
  },
  {
   "cell_type": "markdown",
   "source": [
    "Récupérons les classes et sous-classes de la classe Animalia du fichier `animals_id_name_subClass_sub2Class.csv` que nous avons créé précédemment. Nous avons décité de se limiter à deux sous-classes pour des raisons de temps de récupération des informations de l'API.\n",
    "De plus, nous rencontrons un problème quand les sous classes ne sont pas définies dans WikiData, nous avons donc décidé de ne pas les prendre en compte, et de créer une sous-classe d'animalia appelé sans famille."
   ],
   "metadata": {
    "collapsed": false
   }
  },
  {
   "cell_type": "code",
   "execution_count": 2,
   "outputs": [
    {
     "name": "stdout",
     "output_type": "stream",
     "text": [
      "['0', '0', '0', '0', '0', '0', '0', '0', 'lion', '0', '0', '0', '0', '0', '0', 'African elephant', '0', '0', '0', '0', '0', '0', '0', '0', '0', '0', 'cheetah', '0', '0', '0', '0', 'leopard', 'cougar', 'jaguar', 'brown bear', '0', '0', 'electric ray', '0', '0', '0', '0', '0', 'broccoli', '0', '0', '0', 'Indian elephant', '0', '0', '0', '0', '0', '0']\n"
     ]
    }
   ],
   "source": [
    "import pandas as pd\n",
    "\n",
    "df = pd.read_csv(\"animals_id_name_subClass_sub2Class.csv\")\n",
    "\n",
    "tableau_animaux = df['animalLabel'].values.tolist()\n",
    "\n",
    "# Sélectionner les colonnes spécifiques\n",
    "selected_columns = [\"subclass2Label\", \"subclassLabel\"]\n",
    "selected_data = df[selected_columns]\n",
    "\n",
    "# Transformer les colonnes en un tableau de la forme [[subclass2Label], [subclassLabel]]\n",
    "tableau = selected_data.values.T.tolist()\n",
    "\n",
    "# Afficher le résultat\n",
    "print(tableau_animaux)"
   ],
   "metadata": {
    "collapsed": false,
    "ExecuteTime": {
     "end_time": "2023-05-27T10:00:21.349516Z",
     "start_time": "2023-05-27T10:00:19.974798Z"
    }
   }
  },
  {
   "cell_type": "markdown",
   "source": [
    "On récupère la liste des images de l'évaluation, si elle est reconnue ou non, si oui 1, sinon 0."
   ],
   "metadata": {
    "collapsed": false
   }
  },
  {
   "cell_type": "code",
   "execution_count": 3,
   "outputs": [
    {
     "name": "stdout",
     "output_type": "stream",
     "text": [
      "[['n10_01', 'lion', 'big_cat', 1], ['n20_02', 'lion', 'big_cat', 0]]\n"
     ]
    }
   ],
   "source": [
    "image_reconnue = pd.read_csv(\"./imagesReconnue.csv\")\n",
    "\n",
    "image_reconnue.head()\n",
    "\n",
    "# Le transformer en tableau de la forme [[image, reconnue], ...]\n",
    "tableau_image_reconnue = image_reconnue.values.tolist()\n",
    "\n",
    "# Afficher le résultat\n",
    "print(tableau_image_reconnue)"
   ],
   "metadata": {
    "collapsed": false,
    "ExecuteTime": {
     "end_time": "2023-05-27T10:00:21.355090Z",
     "start_time": "2023-05-27T10:00:21.348407Z"
    }
   }
  },
  {
   "cell_type": "markdown",
   "source": [
    "Concernant la contrainte de la propriété possède pour les sous-classes d'Animalia, c'est un concept avancé dans OWL appelé \"Restrictions sur les propriétés\". Pour répondre au mieux à cette contrainte, nous allons utiliser AllDisjoint et AllDifferent."
   ],
   "metadata": {
    "collapsed": false
   }
  },
  {
   "cell_type": "code",
   "execution_count": 4,
   "outputs": [
    {
     "name": "stdout",
     "output_type": "stream",
     "text": [
      "L'image n10_01 a été reconnue\n",
      "nom_sous_classe big_cat\n",
      "animalia.big_cat\n",
      "animalia.lion\n",
      "nom_sous_classe big_cat\n",
      "animalia.big_cat\n",
      "animalia.lion\n"
     ]
    },
    {
     "name": "stderr",
     "output_type": "stream",
     "text": [
      "* Owlready2 * Warning: optimized Cython parser module 'owlready2_optimized' is not available, defaulting to slower Python implementation\n",
      "\n",
      "Warning: SQLite3 version 3.40.0 and 3.41.2 have huge performance regressions; please install version 3.41.1 or 3.42!\n",
      "\n"
     ]
    }
   ],
   "source": [
    "import numpy as np\n",
    "from owlready2 import Thing, AllDisjoint\n",
    "import owlready2 as owl\n",
    "\n",
    "onto = owl.get_ontology(\"http://example65118.com/animalia.owl\")\n",
    "\n",
    "# Définir la classe racine Animalia\n",
    "with onto:\n",
    "    class Animalia(Thing):\n",
    "        pass\n",
    "\n",
    "\n",
    "# Définir les sous-classes\n",
    "with onto:\n",
    "    for i in range(len(tableau)):\n",
    "        # Supprimer les zéros\n",
    "        tableau_sans_zeros = [x for x in tableau[i] if x != '0']\n",
    "        # Supprimer les doublons\n",
    "        tableau_sans_doublons = np.unique(tableau_sans_zeros)\n",
    "        for j in range(len(tableau_sans_doublons)):\n",
    "            if i == 0: # cela dépend de Animalia\n",
    "                nom_classe = tableau_sans_doublons[j].replace(\" \", \"_\") # Remplacer les espaces par des underscores\n",
    "                # Créer une classe dynamiquement\n",
    "                classe = type(nom_classe, (Animalia,), {})\n",
    "            else: # c'est une sous-classe du précédent\n",
    "                indices_ssClass = [i for i, x in enumerate(tableau[i]) if x == tableau_sans_doublons[j]] # Récupérer les indices des sous-sous-classes\n",
    "                if len(indices_ssClass) == 1: # Alors on crée sans réfléchir la sous classe\n",
    "                    nom_sous_classe = tableau_sans_doublons[j].replace(\" \", \"_\")  # Remplacer les espaces par des underscores\n",
    "                    nom_classe = tableau[i-1][indices_ssClass[0]].replace(\" \", \"_\")  # Remplacer les espaces par des underscores\n",
    "                    # Créer une classe dynamiquement\n",
    "                    classe = type(nom_sous_classe, (getattr(onto, nom_classe),), {})\n",
    "                else: # Alors on crée une classe en vérifiant s'il y a des doublons\n",
    "                    suppresion_doublons = []\n",
    "                    for k in range(len(indices_ssClass)):\n",
    "                        suppresion_doublons.append([indices_ssClass[k], tableau[i][indices_ssClass[k]]])\n",
    "                    uniques = [sublist for i, sublist in enumerate(suppresion_doublons) if sublist[1] not in [x[1] for x in suppresion_doublons[:i]]]\n",
    "                    for l in range(len(uniques)):\n",
    "                        nom_sous_classe = uniques[l][1].replace(\" \", \"_\")  # Remplacer les espaces par des underscores\n",
    "                        nom_classe = tableau[i-1][uniques[l][0]].replace(\" \", \"_\")  # Remplacer les espaces par des underscores\n",
    "                        # Créer une classe dynamiquement\n",
    "                        classe = type(nom_sous_classe, (getattr(onto, nom_classe),), {})\n",
    "\n",
    "# Définir les classes orphelines\n",
    "with onto:\n",
    "    class SansFamille(Animalia):\n",
    "        pass\n",
    "\n",
    "# Définition de la classe image avec son nom et si elle est reconnue ou non\n",
    "with onto:\n",
    "    class Image(Thing):\n",
    "        pass\n",
    "\n",
    "    class Reconnue(Image >> bool):\n",
    "        pass\n",
    "\n",
    "# Définir les exclusions, toutes les classes d'un même niveau sont disjointes\n",
    "with onto:\n",
    "    for i in range(len(tableau)):\n",
    "        # Supprimer les zéros\n",
    "        tableau_sans_zeros = [x for x in tableau[i] if x != '0']\n",
    "        # Supprimer les doublons\n",
    "        tableau_sans_doublons = np.unique(tableau_sans_zeros)\n",
    "        # Créer une liste de classes\n",
    "        liste_classes = []\n",
    "        for j in range(len(tableau_sans_doublons)):\n",
    "            nom_classe = tableau_sans_doublons[j].replace(\" \", \"_\")  # Remplacer les espaces par des underscores\n",
    "            liste_classes.append(getattr(onto, nom_classe))\n",
    "        # Créer une liste de classes disjointes\n",
    "        AllDisjoint(liste_classes)\n",
    "\n",
    "# Définir les différentes propriétés\n",
    "with onto:\n",
    "    class CaracteristiqueMorphologique(Thing):\n",
    "        pass\n",
    "\n",
    "    class Patte(CaracteristiqueMorphologique):\n",
    "        pass\n",
    "\n",
    "    class Museau(CaracteristiqueMorphologique):\n",
    "        pass\n",
    "\n",
    "    class Aile(CaracteristiqueMorphologique):\n",
    "        pass\n",
    "\n",
    "    class Bec(CaracteristiqueMorphologique):\n",
    "        pass\n",
    "\n",
    "    class Queue(CaracteristiqueMorphologique):\n",
    "        pass\n",
    "\n",
    "    class Poil(CaracteristiqueMorphologique):\n",
    "        pass\n",
    "\n",
    "    class Plume(CaracteristiqueMorphologique):\n",
    "        pass\n",
    "\n",
    "# Pour définir les associations, on utilise la propriété contient, qui permet de relier une image à un animal, et on lui précisera si l'image a bien été reconnue, avec la propriété possède, qui permet de relier un animal à une caractéristique morphologique.\n",
    "with onto:\n",
    "    class Contient(owl.ObjectProperty):\n",
    "        domain = [Image]\n",
    "        range = [Animalia]\n",
    "        pass\n",
    "\n",
    "    class Possede(owl.ObjectProperty):\n",
    "        domain    = [Animalia]\n",
    "        range     = [CaracteristiqueMorphologique]\n",
    "        pass\n",
    "\n",
    "\n",
    "for i in range(len(tableau[-1])):\n",
    "    if tableau[-1][i] == '0':\n",
    "        nom_animal = tableau[0][i].replace(\" \", \"_\")  # Remplacer les espaces par des underscores\n",
    "        animal = SansFamille(nom_animal)\n",
    "    else:\n",
    "        nom_classe = tableau[-1][i].replace(\" \", \"_\")  # Remplacer les espaces par des underscores\n",
    "        nom_animal = tableau_animaux[i].replace(\" \", \"_\")  # Remplacer les espaces par des underscores\n",
    "        # Accédez à la classe spécifique\n",
    "        classe = onto[nom_classe]\n",
    "        # Créez une nouvelle instance de cette classe\n",
    "        nouvel_animal = classe(nom_animal)\n",
    "\n",
    "\n",
    "# On ajoute les images à notre ontologie.\n",
    "for i in range(len(tableau_image_reconnue)):\n",
    "    nom_image = tableau_image_reconnue[i][0].replace(\" \", \"_\")  # Remplacer les espaces par des underscores\n",
    "    image_instance = Image(nom_image)\n",
    "    if tableau_image_reconnue[i][3] == 1:\n",
    "        print(\"L'image\", nom_image, \"a été reconnue\")\n",
    "        image_instance.Reconnue.append(True)\n",
    "    else:\n",
    "        image_instance.Reconnue.append(False)\n",
    "\n",
    "    nom_classe = tableau_image_reconnue[i][1].replace(\" \", \"_\")\n",
    "    nom_sous_classe = tableau_image_reconnue[i][2].replace(\" \", \"_\")\n",
    "\n",
    "    print(\"nom_sous_classe\", nom_sous_classe)\n",
    "\n",
    "    nom_sous_classe = onto[nom_sous_classe]\n",
    "\n",
    "    print(nom_sous_classe)\n",
    "\n",
    "    classe_instance = onto.search_one(type=nom_sous_classe, iri=\"*\"+nom_classe)\n",
    "\n",
    "    print(classe_instance)\n",
    "    if classe_instance is None:\n",
    "        classe_instance = nom_sous_classe(nom_classe)\n",
    "\n",
    "    image_instance.Contient.append(classe_instance)\n",
    "\n",
    "\n",
    "onto.save(file=\"FF3_animalia.owl\", format=\"rdfxml\")"
   ],
   "metadata": {
    "collapsed": false,
    "ExecuteTime": {
     "end_time": "2023-05-27T10:00:21.407203Z",
     "start_time": "2023-05-27T10:00:21.361609Z"
    }
   }
  },
  {
   "cell_type": "markdown",
   "source": [
    "On enregistre notre ontologie dans un fichier .owl"
   ],
   "metadata": {
    "collapsed": false
   }
  },
  {
   "cell_type": "code",
   "execution_count": 5,
   "outputs": [],
   "source": [
    "#onto.save(file=\"FF3_animalia.owl\", format=\"rdfxml\")"
   ],
   "metadata": {
    "collapsed": false,
    "ExecuteTime": {
     "end_time": "2023-05-27T10:00:21.407444Z",
     "start_time": "2023-05-27T10:00:21.389735Z"
    }
   }
  }
 ],
 "metadata": {
  "kernelspec": {
   "display_name": "Python 3",
   "language": "python",
   "name": "python3"
  },
  "language_info": {
   "codemirror_mode": {
    "name": "ipython",
    "version": 2
   },
   "file_extension": ".py",
   "mimetype": "text/x-python",
   "name": "python",
   "nbconvert_exporter": "python",
   "pygments_lexer": "ipython2",
   "version": "2.7.6"
  }
 },
 "nbformat": 4,
 "nbformat_minor": 0
}
