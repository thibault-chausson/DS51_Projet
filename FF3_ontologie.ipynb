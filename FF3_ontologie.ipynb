{
 "cells": [
  {
   "cell_type": "markdown",
   "source": [
    "# III) Création d'une ontologie\n",
    "\n",
    "Pour ce faire, nous utiliserons le package `owlready2` qui permet de créer des ontologies en python. (https://linuxfr.org/news/owlready-un-module-python-pour-manipuler-les-ontologies-owl)\n",
    "Les données seront extraite de la base de données de WikiData, nous interrogerons cette base de données par l'API mis à disposition par la librairie `wikibaseintegrator` (https://github.com/LeMyst/WikibaseIntegrator#execute-sparql-queries)."
   ],
   "metadata": {
    "collapsed": false
   }
  },
  {
   "cell_type": "markdown",
   "source": [
    "Commençons par installer les packages nécessaires"
   ],
   "metadata": {
    "collapsed": false
   }
  },
  {
   "cell_type": "code",
   "execution_count": null,
   "outputs": [],
   "source": [
    "# !pip install owlready2\n",
    "# !pip install wikibaseintegrator"
   ],
   "metadata": {
    "collapsed": false
   }
  },
  {
   "cell_type": "markdown",
   "source": [
    "Récupérons les classes et sous-classes de la classe Animalia du fichier `animals_id_name_subClass_sub2Class.csv` que nous avons créé précédemment. Nous avons décité de se limiter à deux sous-classes pour des raisons de temps de récupération des informations de l'API.\n",
    "De plus, nous rencontrons un problème quand les sous classes ne sont pas définies dans WikiData, nous avons donc décidé de ne pas les prendre en compte, et de créer une sous-classe d'animalia appelé sans famille."
   ],
   "metadata": {
    "collapsed": false
   }
  },
  {
   "cell_type": "code",
   "execution_count": 2,
   "outputs": [
    {
     "name": "stdout",
     "output_type": "stream",
     "text": [
      "[['0', '0', '0', '0', '0', '0', '0', '0', '0', '0', '0', '0', '0', '0', 'felidae', '0', '0', '0', '0', '0', '0', '0', '0', '0', '0', 'penguin', 'mammal', '0', '0', '0', '0', '0', '0', '0', '0', '0', '0', '0', '0', '0', '0', '0', '0', '0', '0', 'felidae', '0', '0', '0', '0', '0', '0', '0', '0', '0', '0', 'felidae', 'felidae', 'felidae', '0', 'animal', '0', '0', '0', '0', '0', 'fish', '0', '0', '0', '0', '0', '0', 'food ingredient', '0', '0', '0', '0', '0', 'elephant', '0', '0', '0', '0', '0', '0', '0', '0', '0', '0', '0', '0', '0', '0', '0'], ['0', '0', '0', '0', '0', '0', '0', '0', '0', '0', '0', '0', '0', '0', 'big cat', '0', '0', '0', '0', '0', '0', '0', '0', '0', '0', 'penguin', 'elephant', '0', '0', '0', '0', '0', '0', '0', '0', '0', '0', '0', '0', '0', '0', '0', '0', '0', '0', 'big cat', '0', '0', '0', '0', '0', '0', '0', '0', '0', '0', 'big cat', 'big cat', 'big cat', '0', 'bear', '0', '0', '0', '0', '0', 'electric fish', '0', '0', '0', '0', '0', '0', 'vegetable', '0', '0', '0', '0', '0', 'asian elephant', '0', '0', '0', '0', '0', '0', '0', '0', '0', '0', '0', '0', '0', '0', '0']]\n",
      "['indigo bunting', 'tree frog', 'garter snake', 'agama', 'goldfish', 'bald eagle', 'great white shark', 'dugong', 'barn spider', 'black swan', 'strawberry', 'impala', 'dhole', 'meerkat', 'lion', 'sloth bear', 'alligator lizard', 'platypus', 'black grouse', 'bullfrog', 'mink', 'rapeseed', 'bison', 'magpie', 'sturgeon', 'king penguin', 'african elephant', 'three-toed sloth', 'gibbon', 'king crab', 'brambling', 'red-breasted merganser', 'ruffed grouse', 'scorpion', 'proboscis monkey', 'indian cobra', 'american alligator', 'leaf beetle', 'tiger', 'great grey owl', 'gila monster', 'sulphur-crested cockatoo', 'jacamar', 'boa constrictor', 'axolotl', 'cheetah', 'starfish', 'white stork', 'black stork', 'guenon', 'hornbill', 'ruddy turnstone', 'hermit crab', 'guinea pig', 'zebra', 'giant panda', 'leopard', 'cougar', 'jaguar', 'koala', 'brown bear', 'gorilla', 'little blue heron', 'house finch', 'dingo', 'orangutan', 'electric ray', 'water buffalo', 'centipede', 'hummingbird', 'coyote', 'american coot', 'beaver', 'broccoli', 'armadillo', 'gar', 'mantis', 'albatross', 'gyromitra', 'indian elephant', 'hartebeest', 'hippopotamus', 'lynx', 'fox squirrel', 'rock beauty', 'box turtle', 'kit fox', 'tench', 'red fox', 'sea urchin', 'dowitcher', 'junco', 'echidna', 'wolf', 'bear']\n"
     ]
    }
   ],
   "source": [
    "import pandas as pd\n",
    "\n",
    "df = pd.read_csv(\"animals_id_name_subClass_sub2Class.csv\")\n",
    "\n",
    "tableau_animaux = df['animalLabel'].values.tolist()\n",
    "\n",
    "# Sélectionner les colonnes spécifiques\n",
    "selected_columns = [\"subclass2Label\", \"subclassLabel\"]\n",
    "selected_data = df[selected_columns]\n",
    "\n",
    "# Transformer les colonnes en un tableau de la forme [[subclass2Label], [subclassLabel]]\n",
    "tableau = selected_data.values.T.tolist()\n",
    "\n",
    "# Afficher le résultat\n",
    "print(tableau)\n",
    "\n",
    "# Afficher le résultat\n",
    "print(tableau_animaux)"
   ],
   "metadata": {
    "collapsed": false,
    "ExecuteTime": {
     "end_time": "2023-05-28T16:27:06.654337Z",
     "start_time": "2023-05-28T16:27:06.648304Z"
    }
   }
  },
  {
   "cell_type": "markdown",
   "source": [
    "Nous devons modifier la structure des données pour qu'elle soit exploitable par la suite. Par exemple, nous avons un animal qui a pour sous-classe \"éléphant\" et \"mammifère\" un autre a pour sous-classe \"éléphant d'Asie\" et éléphant\", donc nous devons créer une classe éléphant d'Asie qui découle d'éléphant qui elle-même découle de mammifère."
   ],
   "metadata": {
    "collapsed": false
   }
  },
  {
   "cell_type": "code",
   "execution_count": 7,
   "outputs": [
    {
     "name": "stdout",
     "output_type": "stream",
     "text": [
      "['animal' 'elephant' 'felidae' 'fish' 'food ingredient' 'mammal' 'penguin']\n",
      "[['animal', 'bear'], ['mammal', 'elephant', 'asian elephant'], ['felidae', 'big cat'], ['fish', 'electric fish'], ['food ingredient', 'vegetable'], ['mammal', 'elephant'], ['penguin']]\n",
      "[['animal', 'bear'], ['mammal', 'elephant', 'asian elephant'], ['felidae', 'big cat'], ['fish', 'electric fish'], ['food ingredient', 'vegetable'], ['penguin']]\n"
     ]
    }
   ],
   "source": [
    "# On récupére les sous-sous-classes en supprimant les 0 et les doublons\n",
    "import numpy as np\n",
    "\n",
    "# Supprimer les zéros\n",
    "tableau_sans_zeros = [x for x in tableau[0] if x != '0']\n",
    "# Supprimer les doublons\n",
    "tableau_sans_doublons = np.unique(tableau_sans_zeros)\n",
    "print(tableau_sans_doublons)\n",
    "\n",
    "# On parcourt les sous-sous-classes récupérées et on les ajoute un tableau de la forme [[..., sous-sous-sous-classe, sous-sous-classe, sous-classe], ...]\n",
    "tableau_classes = [[x] for x in tableau_sans_doublons]\n",
    "\n",
    "for i in range(len(tableau_classes)):\n",
    "    for j in range(len(tableau[0])):\n",
    "        if tableau[0][j] != '0' and tableau[1][j] != '0':\n",
    "            if tableau_sans_doublons[i] == tableau[0][j] and tableau[1][j] not in tableau_classes[i]: # On met le 1er élément de la sous-sous-classe dans le tableau\n",
    "                # On vient de trouver une sous-sous-classe, maintenant on va l'ajouter à notre tableau\n",
    "                tableau_classes[i].append(tableau[1][j])\n",
    "            elif tableau_sans_doublons[i] == tableau[1][j] and tableau[0][j] not in tableau_classes[i]: # On met le 2ème élément de la sous-sous-classe dans le tableau\n",
    "                # On vient de trouver une sous-sous-classe, maintenant on va l'ajouter en tête à notre tableau\n",
    "                tableau_classes[i].insert(0, tableau[0][j])\n",
    "            else:\n",
    "                pass\n",
    "        else:\n",
    "            pass\n",
    "\n",
    "\n",
    "def is_subset(l1, l2):\n",
    "    return set(l1).issubset(l2)\n",
    "\n",
    "descendance_classe = []\n",
    "for i in range(len(tableau_classes)):\n",
    "    if not any(is_subset(tableau_classes[i], tableau_classes[j]) for j in range(len(tableau_classes)) if i != j):\n",
    "        descendance_classe.append(tableau_classes[i])\n",
    "\n",
    "\n",
    "# Afficher le résultat\n",
    "print(tableau_classes)\n",
    "\n",
    "# Afficher le résultat\n",
    "print(descendance_classe)"
   ],
   "metadata": {
    "collapsed": false,
    "ExecuteTime": {
     "end_time": "2023-05-28T16:42:26.599167Z",
     "start_time": "2023-05-28T16:42:26.593512Z"
    }
   }
  },
  {
   "cell_type": "markdown",
   "source": [
    "On récupère la liste des images de l'évaluation, si elle est reconnue ou non, si oui 1, sinon 0. Et on formate le fichier pour qu'il soit exploitable par la suite."
   ],
   "metadata": {
    "collapsed": false
   }
  },
  {
   "cell_type": "code",
   "execution_count": 34,
   "outputs": [
    {
     "data": {
      "text/plain": "        nom_image  reconnue prediction\n0  n01443537_8662         0  n01614925\n1  n01443537_8693         1  n01443537\n2  n01443537_8719         0  n01614925\n3   n01443537_875         1  n01443537\n4  n01443537_8787         1  n01443537",
      "text/html": "<div>\n<style scoped>\n    .dataframe tbody tr th:only-of-type {\n        vertical-align: middle;\n    }\n\n    .dataframe tbody tr th {\n        vertical-align: top;\n    }\n\n    .dataframe thead th {\n        text-align: right;\n    }\n</style>\n<table border=\"1\" class=\"dataframe\">\n  <thead>\n    <tr style=\"text-align: right;\">\n      <th></th>\n      <th>nom_image</th>\n      <th>reconnue</th>\n      <th>prediction</th>\n    </tr>\n  </thead>\n  <tbody>\n    <tr>\n      <th>0</th>\n      <td>n01443537_8662</td>\n      <td>0</td>\n      <td>n01614925</td>\n    </tr>\n    <tr>\n      <th>1</th>\n      <td>n01443537_8693</td>\n      <td>1</td>\n      <td>n01443537</td>\n    </tr>\n    <tr>\n      <th>2</th>\n      <td>n01443537_8719</td>\n      <td>0</td>\n      <td>n01614925</td>\n    </tr>\n    <tr>\n      <th>3</th>\n      <td>n01443537_875</td>\n      <td>1</td>\n      <td>n01443537</td>\n    </tr>\n    <tr>\n      <th>4</th>\n      <td>n01443537_8787</td>\n      <td>1</td>\n      <td>n01443537</td>\n    </tr>\n  </tbody>\n</table>\n</div>"
     },
     "execution_count": 34,
     "metadata": {},
     "output_type": "execute_result"
    }
   ],
   "source": [
    "image_reconnue = pd.read_csv(\"./reconnues.csv\")\n",
    "\n",
    "image_reconnue.head()"
   ],
   "metadata": {
    "collapsed": false,
    "ExecuteTime": {
     "end_time": "2023-05-27T15:40:07.215592Z",
     "start_time": "2023-05-27T15:40:07.207904Z"
    }
   }
  },
  {
   "cell_type": "code",
   "execution_count": 35,
   "outputs": [
    {
     "name": "stdout",
     "output_type": "stream",
     "text": [
      "[['n10_01', 'lion', 'big_cat', 1], ['n20_02', 'lion', 'big_cat', 0]]\n"
     ]
    }
   ],
   "source": [
    "image_reconnue = pd.read_csv(\"./imagesReconnue.csv\")\n",
    "\n",
    "image_reconnue.head()\n",
    "\n",
    "# Le transformer en tableau de la forme [[image, reconnue], ...]\n",
    "tableau_image_reconnue = image_reconnue.values.tolist()\n",
    "\n",
    "# Afficher le résultat\n",
    "print(tableau_image_reconnue)"
   ],
   "metadata": {
    "collapsed": false,
    "ExecuteTime": {
     "end_time": "2023-05-27T15:40:09.171907Z",
     "start_time": "2023-05-27T15:40:09.161860Z"
    }
   }
  },
  {
   "cell_type": "markdown",
   "source": [
    "Concernant la contrainte de la propriété possède pour les sous-classes d'Animalia, c'est un concept avancé dans OWL appelé \"Restrictions sur les propriétés\". Pour répondre au mieux à cette contrainte, nous allons utiliser AllDisjoint et AllDifferent."
   ],
   "metadata": {
    "collapsed": false
   }
  },
  {
   "cell_type": "code",
   "execution_count": 42,
   "outputs": [
    {
     "name": "stdout",
     "output_type": "stream",
     "text": [
      "elephant-2\n",
      "animal\n",
      "fish\n",
      "mammal\n",
      "penguin-2\n",
      "food_ingredient\n",
      "big_cat\n",
      "animalia.big_cat\n",
      "penguin-1\n",
      "animalia.penguin-1\n",
      "elephant-1\n",
      "animalia.elephant-1\n",
      "big_cat\n",
      "animalia.big_cat\n",
      "big_cat\n",
      "animalia.big_cat\n",
      "big_cat\n",
      "animalia.big_cat\n",
      "big_cat\n",
      "animalia.big_cat\n",
      "bear\n",
      "animalia.bear\n",
      "electric_fish\n",
      "animalia.electric_fish\n",
      "vegetable\n",
      "animalia.vegetable\n",
      "asian_elephant\n",
      "animalia.asian_elephant\n",
      "L'image n10_01 a été reconnue\n",
      "nom_sous_classe big_cat\n",
      "animalia.big_cat\n",
      "animalia.lion\n",
      "nom_sous_classe big_cat\n",
      "animalia.big_cat\n",
      "animalia.lion\n"
     ]
    }
   ],
   "source": [
    "import numpy as np\n",
    "from owlready2 import Thing, AllDisjoint\n",
    "import owlready2 as owl\n",
    "\n",
    "onto = owl.get_ontology(\"http://example651181.com/animalia.owl\")\n",
    "\n",
    "# Définir la classe racine Animalia\n",
    "with onto:\n",
    "    class Animalia(Thing):\n",
    "        pass\n",
    "\n",
    "\n",
    "# Définir les sous-classes\n",
    "with onto:\n",
    "    for i in range(len(tableau)):\n",
    "        # Supprimer les zéros\n",
    "        tableau_sans_zeros = [x for x in tableau[i] if x != '0']\n",
    "        # Supprimer les doublons\n",
    "        tableau_sans_doublons = np.unique(tableau_sans_zeros)\n",
    "        for j in range(len(tableau_sans_doublons)):\n",
    "            if i == 0: # cela dépend de Animalia\n",
    "                nom_classe = tableau_sans_doublons[j].replace(\" \", \"_\") # Remplacer les espaces par des underscores\n",
    "                # Créer une classe dynamiquement\n",
    "                classe = type(nom_classe, (Animalia,), {})\n",
    "            else: # c'est une sous-classe du précédent\n",
    "                indices_ssClass = [i for i, x in enumerate(tableau[i]) if x == tableau_sans_doublons[j]] # Récupérer les indices des sous-sous-classes\n",
    "                if len(indices_ssClass) == 1: # Alors on crée sans réfléchir la sous classe\n",
    "                    nom_sous_classe = tableau_sans_doublons[j].replace(\" \", \"_\")  # Remplacer les espaces par des underscores\n",
    "                    nom_classe = tableau[i-1][indices_ssClass[0]].replace(\" \", \"_\")  # Remplacer les espaces par des underscores\n",
    "                    # Créer une classe dynamiquement\n",
    "                    classe = type(nom_sous_classe, (getattr(onto, nom_classe),), {})\n",
    "                else: # Alors on crée une classe en vérifiant s'il y a des doublons\n",
    "                    suppresion_doublons = []\n",
    "                    for k in range(len(indices_ssClass)):\n",
    "                        suppresion_doublons.append([indices_ssClass[k], tableau[i][indices_ssClass[k]]])\n",
    "                    uniques = [sublist for i, sublist in enumerate(suppresion_doublons) if sublist[1] not in [x[1] for x in suppresion_doublons[:i]]]\n",
    "                    for l in range(len(uniques)):\n",
    "                        nom_sous_classe = uniques[l][1].replace(\" \", \"_\")  # Remplacer les espaces par des underscores\n",
    "                        nom_classe = tableau[i-1][uniques[l][0]].replace(\" \", \"_\")  # Remplacer les espaces par des underscores\n",
    "                        # Créer une classe dynamiquement\n",
    "                        classe = type(nom_sous_classe, (getattr(onto, nom_classe),), {})\n",
    "\n",
    "# Définir les classes orphelines\n",
    "with onto:\n",
    "    class SansFamille(Animalia):\n",
    "        pass\n",
    "\n",
    "# Définition de la classe image avec son nom et si elle est reconnue ou non\n",
    "with onto:\n",
    "    class Image(Thing):\n",
    "        pass\n",
    "\n",
    "    class Reconnue(Image >> bool):\n",
    "        pass\n",
    "\n",
    "# Définir les exclusions, toutes les classes d'un même niveau sont disjointes\n",
    "with onto:\n",
    "    for i in range(len(tableau)):\n",
    "        # Supprimer les zéros\n",
    "        tableau_sans_zeros = [x for x in tableau[i] if x != '0']\n",
    "        # Supprimer les doublons\n",
    "        tableau_sans_doublons = np.unique(tableau_sans_zeros)\n",
    "        # Créer une liste de classes\n",
    "        liste_classes = []\n",
    "        for j in range(len(tableau_sans_doublons)):\n",
    "            nom_classe = tableau_sans_doublons[j].replace(\" \", \"_\")  # Remplacer les espaces par des underscores\n",
    "            liste_classes.append(getattr(onto, nom_classe))\n",
    "        # Créer une liste de classes disjointes\n",
    "        AllDisjoint(liste_classes)\n",
    "\n",
    "# Définir les différentes propriétés\n",
    "with onto:\n",
    "    class CaracteristiqueMorphologique(Thing):\n",
    "        pass\n",
    "\n",
    "    class Patte(CaracteristiqueMorphologique):\n",
    "        pass\n",
    "\n",
    "    class Museau(CaracteristiqueMorphologique):\n",
    "        pass\n",
    "\n",
    "    class Aile(CaracteristiqueMorphologique):\n",
    "        pass\n",
    "\n",
    "    class Bec(CaracteristiqueMorphologique):\n",
    "        pass\n",
    "\n",
    "    class Queue(CaracteristiqueMorphologique):\n",
    "        pass\n",
    "\n",
    "    class Poil(CaracteristiqueMorphologique):\n",
    "        pass\n",
    "\n",
    "    class Plume(CaracteristiqueMorphologique):\n",
    "        pass\n",
    "\n",
    "# Pour définir les associations, on utilise la propriété contient, qui permet de relier une image à un animal, et on lui précisera si l'image a bien été reconnue, avec la propriété possède, qui permet de relier un animal à une caractéristique morphologique.\n",
    "with onto:\n",
    "    class Contient(owl.ObjectProperty):\n",
    "        domain = [Image]\n",
    "        range = [Animalia]\n",
    "        pass\n",
    "\n",
    "    class Possede(owl.ObjectProperty):\n",
    "        domain    = [Animalia]\n",
    "        range     = [CaracteristiqueMorphologique]\n",
    "        pass\n",
    "\n",
    "\n",
    "for i in range(len(tableau[-1])):\n",
    "    if tableau[-1][i] == '0':\n",
    "        nom_animal = tableau[0][i].replace(\" \", \"_\")  # Remplacer les espaces par des underscores\n",
    "        animal = SansFamille(nom_animal)\n",
    "    else:\n",
    "        nom_classe = tableau[-1][i].replace(\" \", \"_\")  # Remplacer les espaces par des underscores\n",
    "        nom_animal = tableau_animaux[i].replace(\" \", \"_\")  # Remplacer les espaces par des underscores\n",
    "        # Accédez à la classe spécifique\n",
    "        classe = onto[nom_classe]\n",
    "        # Créez une nouvelle instance de cette classe\n",
    "        nouvel_animal = classe(nom_animal)\n",
    "\n",
    "\n",
    "# On ajoute les images à notre ontologie.\n",
    "for i in range(len(tableau_image_reconnue)):\n",
    "    nom_image = tableau_image_reconnue[i][0].replace(\" \", \"_\")  # Remplacer les espaces par des underscores\n",
    "    image_instance = Image(nom_image)\n",
    "    if tableau_image_reconnue[i][3] == 1:\n",
    "        print(\"L'image\", nom_image, \"a été reconnue\")\n",
    "        image_instance.Reconnue.append(True)\n",
    "    else:\n",
    "        image_instance.Reconnue.append(False)\n",
    "\n",
    "    nom_classe = tableau_image_reconnue[i][1].replace(\" \", \"_\")\n",
    "    nom_sous_classe = tableau_image_reconnue[i][2].replace(\" \", \"_\")\n",
    "\n",
    "    print(\"nom_sous_classe\", nom_sous_classe)\n",
    "\n",
    "    nom_sous_classe = onto[nom_sous_classe]\n",
    "\n",
    "    print(nom_sous_classe)\n",
    "\n",
    "    classe_instance = onto.search_one(type=nom_sous_classe, iri=\"*\"+nom_classe)\n",
    "\n",
    "    print(classe_instance)\n",
    "    if classe_instance is None:\n",
    "        classe_instance = nom_sous_classe(nom_classe)\n",
    "\n",
    "    image_instance.Contient.append(classe_instance)\n",
    "\n",
    "\n",
    "onto.save(file=\"FF3_animalia.owl\", format=\"rdfxml\")"
   ],
   "metadata": {
    "collapsed": false,
    "ExecuteTime": {
     "end_time": "2023-05-27T15:44:59.985835Z",
     "start_time": "2023-05-27T15:44:59.973499Z"
    }
   }
  },
  {
   "cell_type": "markdown",
   "source": [
    "On enregistre notre ontologie dans un fichier .owl"
   ],
   "metadata": {
    "collapsed": false
   }
  },
  {
   "cell_type": "code",
   "execution_count": null,
   "outputs": [],
   "source": [
    "#onto.save(file=\"FF3_animalia.owl\", format=\"rdfxml\")"
   ],
   "metadata": {
    "collapsed": false
   }
  }
 ],
 "metadata": {
  "kernelspec": {
   "display_name": "Python 3",
   "language": "python",
   "name": "python3"
  },
  "language_info": {
   "codemirror_mode": {
    "name": "ipython",
    "version": 2
   },
   "file_extension": ".py",
   "mimetype": "text/x-python",
   "name": "python",
   "nbconvert_exporter": "python",
   "pygments_lexer": "ipython2",
   "version": "2.7.6"
  }
 },
 "nbformat": 4,
 "nbformat_minor": 0
}
