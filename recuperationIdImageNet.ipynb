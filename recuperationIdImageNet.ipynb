{
 "cells": [
  {
   "cell_type": "markdown",
   "source": [
    "# Récupération des identifiants où il y a des animaux dans les images\n",
    "\n",
    "Pour ce faire, nous allons récupérer la liste des différents animaux existant sur Terre grace à WikiData avec une request SPARQL :\n",
    "\n",
    "```sparql\n",
    "SELECT DISTINCT ?animal ?animalLabel WHERE {\n",
    "  ?animal wdt:P31 wd:Q16521.\n",
    "  ?animal rdfs:label ?animalLabel filter (lang(?animalLabel) = \"en\").\n",
    "  #OPTIONAL {?animal wdt:P18 ?image.}\n",
    "} LIMIT 1000000\n",
    "```\n",
    "\n",
    "Nous téléchargeons le fichier CSV pour les 1000000 premiers résultats et nous le sauvegardons dans le fichier `animals.csv`.\n",
    "\n",
    "Sur Kaggle (https://www.kaggle.com/competitions/imagenet-object-localization-challenge/data?select=LOC_synset_mapping.txt), nous récupérons le fichier `LOC_synset_mapping.txt`, qui contient la liste des identifiants des animaux avec leur nom.\n",
    "\n",
    "La correspondance entre les 1000 synset id et leurs descriptions. Par exemple, la ligne 1 indique n01440764 tanche, Tinca tinca signifie qu'il s'agit de la classe 1, que l'identifiant synset est n01440764 et qu'elle contient le poisson tanche.\n",
    "\n",
    "```txt\n",
    "1\tn01440764 tench, Tinca tinca\n",
    "2\tn01443537 goldfish, Carassius auratus\n",
    "```"
   ],
   "metadata": {
    "collapsed": false
   }
  },
  {
   "cell_type": "markdown",
   "source": [
    "Commençons par charger les données dans un DataFrame pandas. Nous allons utiliser le fichier `LOC_synset_mapping.txt` pour récupérer les identifiants des animaux et leur nom."
   ],
   "metadata": {
    "collapsed": false
   }
  },
  {
   "cell_type": "code",
   "execution_count": 100,
   "outputs": [
    {
     "data": {
      "text/plain": "          id                                               name\n0  n01440764                              [tench,  Tinca tinca]\n1  n01443537                     [goldfish,  Carassius auratus]\n2  n01484850  [great white shark,  white shark,  man-eater, ...\n3  n01491361                 [tiger shark,  Galeocerdo cuvieri]\n4  n01494475                    [hammerhead,  hammerhead shark]",
      "text/html": "<div>\n<style scoped>\n    .dataframe tbody tr th:only-of-type {\n        vertical-align: middle;\n    }\n\n    .dataframe tbody tr th {\n        vertical-align: top;\n    }\n\n    .dataframe thead th {\n        text-align: right;\n    }\n</style>\n<table border=\"1\" class=\"dataframe\">\n  <thead>\n    <tr style=\"text-align: right;\">\n      <th></th>\n      <th>id</th>\n      <th>name</th>\n    </tr>\n  </thead>\n  <tbody>\n    <tr>\n      <th>0</th>\n      <td>n01440764</td>\n      <td>[tench,  Tinca tinca]</td>\n    </tr>\n    <tr>\n      <th>1</th>\n      <td>n01443537</td>\n      <td>[goldfish,  Carassius auratus]</td>\n    </tr>\n    <tr>\n      <th>2</th>\n      <td>n01484850</td>\n      <td>[great white shark,  white shark,  man-eater, ...</td>\n    </tr>\n    <tr>\n      <th>3</th>\n      <td>n01491361</td>\n      <td>[tiger shark,  Galeocerdo cuvieri]</td>\n    </tr>\n    <tr>\n      <th>4</th>\n      <td>n01494475</td>\n      <td>[hammerhead,  hammerhead shark]</td>\n    </tr>\n  </tbody>\n</table>\n</div>"
     },
     "execution_count": 100,
     "metadata": {},
     "output_type": "execute_result"
    }
   ],
   "source": [
    "import pandas as pd\n",
    "\n",
    "# Lecture du fichier texte\n",
    "with open('LOC_synset_mapping.txt', 'r') as f:\n",
    "    lignes = f.readlines()\n",
    "\n",
    "# Création d'un DataFrame\n",
    "df = pd.DataFrame({'ligne': lignes})\n",
    "\n",
    "# Séparation de l'ID et du nom\n",
    "df['id'] = df['ligne'].str.split(' ', n=1, expand=True)[0]\n",
    "df['name'] = df['ligne'].str.split(' ', n=1, expand=True)[1].str.rstrip().str.split(',')\n",
    "\n",
    "df.drop(columns=['ligne'], inplace=True)\n",
    "# Affichage du DataFrame\n",
    "df.head()"
   ],
   "metadata": {
    "collapsed": false,
    "ExecuteTime": {
     "end_time": "2023-05-12T18:00:58.406581Z",
     "start_time": "2023-05-12T18:00:58.399575Z"
    }
   }
  },
  {
   "cell_type": "markdown",
   "source": [
    "On vient de récupérer les identifiants et les noms des animaux, ou d'objet. Nous allons maintenant récupérer les identifiants des animaux dans le fichier `animals.csv` et les sauvegarder dans un nouveau fichier `animals_id.csv`. Commençons par lire le fichier csv."
   ],
   "metadata": {
    "collapsed": false
   }
  },
  {
   "cell_type": "code",
   "execution_count": 102,
   "outputs": [
    {
     "data": {
      "text/plain": "                                  animal animalLabel\n0    http://www.wikidata.org/entity/Q140        lion\n1   http://www.wikidata.org/entity/Q5113       birds\n2  http://www.wikidata.org/entity/Q14334   wolverine\n3  http://www.wikidata.org/entity/Q14272  Geraniales\n4  http://www.wikidata.org/entity/Q19064   Agyrtidae",
      "text/html": "<div>\n<style scoped>\n    .dataframe tbody tr th:only-of-type {\n        vertical-align: middle;\n    }\n\n    .dataframe tbody tr th {\n        vertical-align: top;\n    }\n\n    .dataframe thead th {\n        text-align: right;\n    }\n</style>\n<table border=\"1\" class=\"dataframe\">\n  <thead>\n    <tr style=\"text-align: right;\">\n      <th></th>\n      <th>animal</th>\n      <th>animalLabel</th>\n    </tr>\n  </thead>\n  <tbody>\n    <tr>\n      <th>0</th>\n      <td>http://www.wikidata.org/entity/Q140</td>\n      <td>lion</td>\n    </tr>\n    <tr>\n      <th>1</th>\n      <td>http://www.wikidata.org/entity/Q5113</td>\n      <td>birds</td>\n    </tr>\n    <tr>\n      <th>2</th>\n      <td>http://www.wikidata.org/entity/Q14334</td>\n      <td>wolverine</td>\n    </tr>\n    <tr>\n      <th>3</th>\n      <td>http://www.wikidata.org/entity/Q14272</td>\n      <td>Geraniales</td>\n    </tr>\n    <tr>\n      <th>4</th>\n      <td>http://www.wikidata.org/entity/Q19064</td>\n      <td>Agyrtidae</td>\n    </tr>\n  </tbody>\n</table>\n</div>"
     },
     "execution_count": 102,
     "metadata": {},
     "output_type": "execute_result"
    }
   ],
   "source": [
    "# Lecture du fichier CSV\n",
    "df_animals = pd.read_csv('animals.csv')\n",
    "df_animals.head()"
   ],
   "metadata": {
    "collapsed": false,
    "ExecuteTime": {
     "end_time": "2023-05-12T18:02:11.669876Z",
     "start_time": "2023-05-12T18:02:11.589357Z"
    }
   }
  },
  {
   "cell_type": "markdown",
   "source": [
    "Comparons-les animalLabel avec les noms des animaux dans le fichier `LOC_synset_mapping.txt`. Pour cela, nous allons créer une fonction qui va comparer les deux listes et retourner l'identifiant de l'animal si il y a une correspondance."
   ],
   "metadata": {
    "collapsed": false
   }
  },
  {
   "cell_type": "code",
   "execution_count": 106,
   "outputs": [],
   "source": [
    "# Définissons la liste des identifiants des animaux\n",
    "animals_id = []\n",
    "\n",
    "# Parcourons le CSV récupéré de WikiData avec df['name'], si le nom de l'animal : df_animals['animalLabel'], est dans le tableau df['name'], on récupère l'identifiant de l'animal et on l'ajoute dans la liste animals_id\n",
    "for animal in df_animals['animalLabel']:\n",
    "    for i in range(len(df['name'])):\n",
    "        if animal in df['name'][i]:\n",
    "            animals_id.append(df['id'][i])\n",
    "            break"
   ],
   "metadata": {
    "collapsed": false,
    "ExecuteTime": {
     "end_time": "2023-05-12T18:11:16.696328Z",
     "start_time": "2023-05-12T18:08:02.422597Z"
    }
   }
  },
  {
   "cell_type": "code",
   "execution_count": 108,
   "outputs": [
    {
     "data": {
      "text/plain": "          id\n0  n02129165\n1  n01770393\n2  n01873310\n3  n02129604\n4  n02119022",
      "text/html": "<div>\n<style scoped>\n    .dataframe tbody tr th:only-of-type {\n        vertical-align: middle;\n    }\n\n    .dataframe tbody tr th {\n        vertical-align: top;\n    }\n\n    .dataframe thead th {\n        text-align: right;\n    }\n</style>\n<table border=\"1\" class=\"dataframe\">\n  <thead>\n    <tr style=\"text-align: right;\">\n      <th></th>\n      <th>id</th>\n    </tr>\n  </thead>\n  <tbody>\n    <tr>\n      <th>0</th>\n      <td>n02129165</td>\n    </tr>\n    <tr>\n      <th>1</th>\n      <td>n01770393</td>\n    </tr>\n    <tr>\n      <th>2</th>\n      <td>n01873310</td>\n    </tr>\n    <tr>\n      <th>3</th>\n      <td>n02129604</td>\n    </tr>\n    <tr>\n      <th>4</th>\n      <td>n02119022</td>\n    </tr>\n  </tbody>\n</table>\n</div>"
     },
     "execution_count": 108,
     "metadata": {},
     "output_type": "execute_result"
    }
   ],
   "source": [
    "# Enregistrons les identifiants dans un fichier CSV\n",
    "df_animals_id = pd.DataFrame({'id': animals_id})\n",
    "df_animals_id.to_csv('animals_id.csv', index=False)\n",
    "df_animals_id.head()"
   ],
   "metadata": {
    "collapsed": false,
    "ExecuteTime": {
     "end_time": "2023-05-12T18:12:02.209847Z",
     "start_time": "2023-05-12T18:12:02.202250Z"
    }
   }
  },
  {
   "cell_type": "markdown",
   "source": [],
   "metadata": {
    "collapsed": false
   }
  }
 ],
 "metadata": {
  "kernelspec": {
   "display_name": "Python 3",
   "language": "python",
   "name": "python3"
  },
  "language_info": {
   "codemirror_mode": {
    "name": "ipython",
    "version": 2
   },
   "file_extension": ".py",
   "mimetype": "text/x-python",
   "name": "python",
   "nbconvert_exporter": "python",
   "pygments_lexer": "ipython2",
   "version": "2.7.6"
  }
 },
 "nbformat": 4,
 "nbformat_minor": 0
}
