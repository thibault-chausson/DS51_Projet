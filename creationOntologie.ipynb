{
 "cells": [
  {
   "cell_type": "markdown",
   "source": [
    "# Création d'une ontologie\n",
    "\n",
    "Pour ce faire, nous utiliserons le package `owlready2` qui permet de créer des ontologies en python. (https://linuxfr.org/news/owlready-un-module-python-pour-manipuler-les-ontologies-owl)\n",
    "Les données seront extraite de la base de données de WikiData, nous interrogerons cette base de données par l'API mis à disposition par la librairie `wikibaseintegrator` (https://github.com/LeMyst/WikibaseIntegrator#execute-sparql-queries)."
   ],
   "metadata": {
    "collapsed": false
   }
  },
  {
   "cell_type": "markdown",
   "source": [
    "Commençons par installer les packages nécessaires"
   ],
   "metadata": {
    "collapsed": false
   }
  },
  {
   "cell_type": "code",
   "execution_count": null,
   "outputs": [],
   "source": [
    "# !pip install owlready2\n",
    "# !pip install wikibaseintegrator"
   ],
   "metadata": {
    "collapsed": false
   }
  },
  {
   "cell_type": "markdown",
   "source": [
    "## Récupération des données depuis une base de données : WikiData\n",
    "\n",
    "Pour ce faire, nous utiliserons la librairie `wikibaseintegrator` qui permet d'interroger la base de données de WikiData.\n",
    "Nous voulons récupérer l'ensemble des animaux de la base de données, pour ce faire, nous utiliserons : WikibaseIntegrator wbi.item.get(entity_id='Q729')."
   ],
   "metadata": {
    "collapsed": false
   }
  },
  {
   "cell_type": "code",
   "execution_count": null,
   "outputs": [],
   "source": [
    "from wikibaseintegrator import wbi_login, WikibaseIntegrator\n",
    "from wikibaseintegrator.wbi_config import config as wbi_config\n",
    "\n",
    "wbi_config['USER_AGENT'] = 'MyWikibaseBot/1.0 (https://www.wikidata.org/wiki/User:MyUsername)'\n",
    "\n",
    "# login object\n",
    "login_instance = wbi_login.Clientlogin(user='Arti0890', password='purtyx-fuwvi4-rYmgor')\n",
    "\n",
    "wbi = WikibaseIntegrator(login=login_instance)\n",
    "\n",
    "item = wbi.item.get(entity_id='Q729')\n",
    "\n",
    "# to check successful installation and retrieval of the data, you can print the json representation of the item\n",
    "print(item.get_json())"
   ],
   "metadata": {
    "collapsed": false
   }
  },
  {
   "cell_type": "code",
   "execution_count": null,
   "outputs": [],
   "source": [
    "from wikibaseintegrator import wbi_helpers\n",
    "\n",
    "# Requête SPARQL pour récupérer les animaux\n",
    "query = \"\"\"\n",
    "SELECT DISTINCT ?animal ?animalLabel WHERE {\n",
    "  ?animal wdt:P31 wd:Q729.\n",
    "  ?animal rdfs:label ?animalLabel filter (lang(?animalLabel) = \"en\").\n",
    "  #OPTIONAL {?animal wdt:P18 ?image.}\n",
    "} LIMIT 100\n",
    "\"\"\"\n",
    "\n",
    "# Récupérer les entités correspondant à la requête SPARQL\n",
    "data = wbi_helpers.execute_sparql_query(query)\n",
    "print(data)\n"
   ],
   "metadata": {
    "collapsed": false
   }
  },
  {
   "cell_type": "markdown",
   "source": [
    "## Création de l'ontologie"
   ],
   "metadata": {
    "collapsed": false
   }
  },
  {
   "cell_type": "code",
   "execution_count": null,
   "outputs": [],
   "source": [
    "import owlready2 as owl\n",
    "\n",
    "onto = owl.get_ontology(\"http://example.com/animals.owl\")\n",
    "\n",
    "class Animalia(owl.Thing):\n",
    "    namespace = onto\n",
    "\n",
    "class Mammifere(Animalia):\n",
    "    namespace = onto\n",
    "\n",
    "class aPourNom(owl.DataProperty):\n",
    "    namespace = onto\n",
    "    domain = [Animalia]\n",
    "    range = [str]\n",
    "\n",
    "chien = Animalia(\"chien\")\n",
    "chien.aPourNom.append(\"Fido\")\n",
    "\n",
    "baleine = Mammifere(\"baleine\")\n",
    "baleine.aPourNom.append(\"Moby Dick\")\n",
    "\n",
    "onto.save(file=\"animaux.owl\", format=\"rdfxml\")"
   ],
   "metadata": {
    "collapsed": false
   }
  },
  {
   "cell_type": "code",
   "execution_count": 78,
   "outputs": [
    {
     "name": "stdout",
     "output_type": "stream",
     "text": [
      "[animalia.Aves, animalia.Animalia]\n",
      "['court et pointu']\n"
     ]
    }
   ],
   "source": [
    "from owlready2 import Thing, AllDisjoint, ObjectProperty\n",
    "\n",
    "import owlready2 as owl\n",
    "\n",
    "onto = owl.get_ontology(\"http://example3.com/animalia.owl\")\n",
    "\n",
    "with onto:\n",
    "    class Animalia(Thing):\n",
    "        pass\n",
    "    class Mammalia(Animalia): #Mamifères\n",
    "        pass\n",
    "    class Aves(Animalia): #Oiseaux\n",
    "        pass\n",
    "    class Pisces(Animalia): #Poissons\n",
    "        pass\n",
    "\n",
    "    # Définition de la propriété object property aUnBec\n",
    "    class a_un_bec(ObjectProperty):\n",
    "        domain = [Aves]\n",
    "        range = [str]\n",
    "\n",
    "    # Ajout d'une restriction de propriété pour définir les caractéristiques des oiseaux\n",
    "    class Oiseau(Aves):\n",
    "        equivalent_to = [Aves & a_un_bec.some(str)]\n",
    "\n",
    "    #Un mamifère n'est pas un poisson, etc.\n",
    "    AllDisjoint([Mammalia, Aves, Pisces])\n",
    "\n",
    "my_oiseau = Oiseau(\"Moineau\")\n",
    "my_oiseau.a_un_bec = [\"court et pointu\"]\n",
    "\n",
    "print(Oiseau.is_a)\n",
    "print(my_oiseau.a_un_bec)\n",
    "\n",
    "onto.save(file=\"animalia.owl\", format=\"rdfxml\")\n"
   ],
   "metadata": {
    "collapsed": false,
    "ExecuteTime": {
     "end_time": "2023-05-13T14:30:31.098440Z",
     "start_time": "2023-05-13T14:30:31.091878Z"
    }
   }
  },
  {
   "cell_type": "code",
   "execution_count": null,
   "outputs": [],
   "source": [],
   "metadata": {
    "collapsed": false
   }
  }
 ],
 "metadata": {
  "kernelspec": {
   "display_name": "Python 3",
   "language": "python",
   "name": "python3"
  },
  "language_info": {
   "codemirror_mode": {
    "name": "ipython",
    "version": 2
   },
   "file_extension": ".py",
   "mimetype": "text/x-python",
   "name": "python",
   "nbconvert_exporter": "python",
   "pygments_lexer": "ipython2",
   "version": "2.7.6"
  }
 },
 "nbformat": 4,
 "nbformat_minor": 0
}
