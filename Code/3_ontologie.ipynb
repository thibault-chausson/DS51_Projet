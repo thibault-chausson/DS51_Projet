{
 "cells": [
  {
   "cell_type": "markdown",
   "metadata": {},
   "source": [
    "# III) Création d'une ontologie\n",
    "\n",
    "Pour ce faire, nous utiliserons le package [owlready2](https://linuxfr.org/news/owlready-un-module-python-pour-manipuler-les-ontologies-owl) qui permet de créer des ontologies en Python.\n",
    "Les données seront extraite de la base de données de WikiData, nous interrogerons cette base de données par l'API mis à disposition par la librairie [wikibaseintegrator](https://github.com/LeMyst/WikibaseIntegrator#execute-sparql-queries)."
   ]
  },
  {
   "cell_type": "markdown",
   "metadata": {},
   "source": [
    "Commençons par installer les packages nécessaires"
   ]
  },
  {
   "cell_type": "code",
   "execution_count": 51,
   "metadata": {
    "ExecuteTime": {
     "end_time": "2023-05-28T17:29:51.851612Z",
     "start_time": "2023-05-28T17:29:51.850227Z"
    }
   },
   "outputs": [],
   "source": [
    "# !pip install owlready2\n",
    "# !pip install wikibaseintegrator"
   ]
  },
  {
   "cell_type": "markdown",
   "metadata": {},
   "source": [
    "Récupérons les classes et sous-classes de la classe Animalia du fichier `animals_id_name_subClass_sub2Class.csv` que nous avons créé précédemment. Nous avons décité de se limiter à deux sous-classes pour des raisons de temps de récupération des informations de l'API.\n",
    "De plus, nous rencontrons un problème quand les sous classes ne sont pas définies dans WikiData, nous avons donc décidé de ne pas les prendre en compte, et de créer une sous-classe d'animalia appelé sans famille."
   ]
  },
  {
   "cell_type": "code",
   "execution_count": 1,
   "metadata": {
    "ExecuteTime": {
     "end_time": "2023-06-06T18:53:30.364507Z",
     "start_time": "2023-06-06T18:53:27.218872Z"
    }
   },
   "outputs": [
    {
     "name": "stdout",
     "output_type": "stream",
     "text": [
      "[['0', '0', '0', '0', '0', '0', '0', '0', '0', '0', '0', '0', '0', '0', 'felidae', '0', '0', '0', '0', '0', '0', '0', '0', '0', '0', 'penguin', 'mammal', '0', '0', '0', '0', '0', '0', '0', '0', '0', '0', '0', '0', '0', '0', '0', '0', '0', '0', 'felidae', '0', '0', '0', '0', '0', '0', '0', '0', '0', '0', 'felidae', 'felidae', 'felidae', '0', 'animal', '0', '0', '0', '0', '0', 'fish', '0', '0', '0', '0', '0', '0', 'food ingredient', '0', '0', '0', '0', '0', 'elephant', '0', '0', '0', '0', '0', '0', '0', '0', '0', '0', '0', '0', '0', '0', '0'], ['0', '0', '0', '0', '0', '0', '0', '0', '0', '0', '0', '0', '0', '0', 'big cat', '0', '0', '0', '0', '0', '0', '0', '0', '0', '0', 'penguin', 'elephant', '0', '0', '0', '0', '0', '0', '0', '0', '0', '0', '0', '0', '0', '0', '0', '0', '0', '0', 'big cat', '0', '0', '0', '0', '0', '0', '0', '0', '0', '0', 'big cat', 'big cat', 'big cat', '0', 'bear_class', '0', '0', '0', '0', '0', 'electric fish', '0', '0', '0', '0', '0', '0', 'vegetable', '0', '0', '0', '0', '0', 'asian elephant', '0', '0', '0', '0', '0', '0', '0', '0', '0', '0', '0', '0', '0', '0', '0']]\n",
      "['indigo_bunting', 'tree_frog', 'garter_snake', 'agama', 'goldfish', 'bald_eagle', 'great_white_shark', 'dugong', 'barn_spider', 'black_swan', 'strawberry', 'impala', 'dhole', 'meerkat', 'lion', 'sloth_bear', 'alligator_lizard', 'platypus', 'black_grouse', 'bullfrog', 'mink', 'rapeseed', 'bison', 'magpie', 'sturgeon', 'king_penguin', 'african_elephant', 'three-toed_sloth', 'gibbon', 'king_crab', 'brambling', 'red-breasted_merganser', 'ruffed_grouse', 'scorpion', 'proboscis_monkey', 'indian_cobra', 'american_alligator', 'leaf_beetle', 'tiger', 'great_grey_owl', 'gila_monster', 'sulphur-crested_cockatoo', 'jacamar', 'boa_constrictor', 'axolotl', 'cheetah', 'starfish', 'white_stork', 'black_stork', 'guenon', 'hornbill', 'ruddy_turnstone', 'hermit_crab', 'guinea_pig', 'zebra', 'giant_panda', 'leopard', 'cougar', 'jaguar', 'koala', 'brown_bear', 'gorilla', 'little_blue_heron', 'house_finch', 'dingo', 'orangutan', 'electric_ray', 'water_buffalo', 'centipede', 'hummingbird', 'coyote', 'american_coot', 'beaver', 'broccoli', 'armadillo', 'gar', 'mantis', 'albatross', 'gyromitra', 'indian_elephant', 'hartebeest', 'hippopotamus', 'lynx', 'fox_squirrel', 'rock_beauty', 'box_turtle', 'kit_fox', 'tench', 'red_fox', 'sea_urchin', 'dowitcher', 'junco', 'echidna', 'wolf', 'bear']\n"
     ]
    }
   ],
   "source": [
    "import pandas as pd\n",
    "\n",
    "df = pd.read_csv(\"animals_id_name_subClass_sub2Class.csv\")\n",
    "\n",
    "tableau_animaux = df['animalLabel'].values.tolist()\n",
    "\n",
    "for i in range(len(tableau_animaux)):\n",
    "    tableau_animaux[i] = tableau_animaux[i].replace(\" \", \"_\")\n",
    "\n",
    "# Sélectionner les colonnes spécifiques\n",
    "selected_columns = [\"subclass2Label\", \"subclassLabel\"]\n",
    "selected_data = df[selected_columns]\n",
    "\n",
    "# Transformer les colonnes en un tableau de la forme [[subclass2Label], [subclassLabel]]\n",
    "tableau = selected_data.values.T.tolist()\n",
    "\n",
    "# Car une class à le nom d'un animal, on va le remplacer par le nom de l'animal + _class\n",
    "for i in range(len(tableau[0])):\n",
    "    if tableau[0][i] in tableau_animaux:\n",
    "        tableau[0][i] = tableau[0][i].replace(\" \", \"_\") + \"_class\"\n",
    "    if tableau[1][i] in tableau_animaux:\n",
    "        tableau[1][i] = tableau[1][i].replace(\" \", \"_\") + \"_class\"\n",
    "\n",
    "# Afficher le résultat\n",
    "print(tableau)\n",
    "\n",
    "# Afficher le résultat\n",
    "print(tableau_animaux)"
   ]
  },
  {
   "cell_type": "markdown",
   "metadata": {},
   "source": [
    "Nous devons modifier la structure des données pour qu'elle soit exploitable par la suite. Par exemple, nous avons un animal qui a pour sous-classe \"éléphant\" et \"mammifère\" un autre a pour sous-classe \"éléphant d'Asie\" et éléphant\", donc nous devons créer une classe éléphant d'Asie qui découle d'éléphant qui elle-même découle de mammifère."
   ]
  },
  {
   "cell_type": "code",
   "execution_count": 2,
   "metadata": {
    "ExecuteTime": {
     "end_time": "2023-06-06T18:53:30.371042Z",
     "start_time": "2023-06-06T18:53:30.367523Z"
    }
   },
   "outputs": [
    {
     "name": "stdout",
     "output_type": "stream",
     "text": [
      "['animal' 'elephant' 'felidae' 'fish' 'food ingredient' 'mammal' 'penguin']\n",
      "[['animal', 'bear_class'], ['mammal', 'elephant', 'asian elephant'], ['felidae', 'big cat'], ['fish', 'electric fish'], ['food ingredient', 'vegetable'], ['mammal', 'elephant'], ['penguin']]\n",
      "[['animal', 'bear_class'], ['mammal', 'elephant', 'asian elephant'], ['felidae', 'big cat'], ['fish', 'electric fish'], ['food ingredient', 'vegetable'], ['penguin']]\n"
     ]
    }
   ],
   "source": [
    "# Nous récupérons les sous-sous-classes en supprimant les 0 et les doublons\n",
    "import numpy as np\n",
    "\n",
    "# Supprimer les zéros\n",
    "tableau_sans_zeros = [x for x in tableau[0] if x != '0']\n",
    "# Supprimer les doublons\n",
    "tableau_sans_doublons = np.unique(tableau_sans_zeros)\n",
    "print(tableau_sans_doublons)\n",
    "\n",
    "# On parcourt les sous-sous-classes récupérées et on les ajoute un tableau de la forme [[..., sous-sous-sous-classe, sous-sous-classe, sous-classe], ...]\n",
    "tableau_classes = [[x] for x in tableau_sans_doublons]\n",
    "\n",
    "for i in range(len(tableau_classes)):\n",
    "    for j in range(len(tableau[0])):\n",
    "        if tableau[0][j] != '0' and tableau[1][j] != '0':\n",
    "            if tableau_sans_doublons[i] == tableau[0][j] and tableau[1][j] not in tableau_classes[\n",
    "                i]:  # On met le 1er élément de la sous-sous-classe dans le tableau\n",
    "                # On vient de trouver une sous-sous-classe, maintenant, nous allons l'ajouter à notre tableau\n",
    "                tableau_classes[i].append(tableau[1][j])\n",
    "            elif tableau_sans_doublons[i] == tableau[1][j] and tableau[0][j] not in tableau_classes[\n",
    "                i]:  # On met le 2ème élément de la sous-sous-classe dans le tableau\n",
    "                # On vient de trouver une sous-sous-classe, maintenant, nous allons l'ajouter en tête à notre tableau\n",
    "                tableau_classes[i].insert(0, tableau[0][j])\n",
    "            else:\n",
    "                pass\n",
    "        else:\n",
    "            pass\n",
    "\n",
    "\n",
    "def is_subset(l1, l2):\n",
    "    return set(l1).issubset(l2)\n",
    "\n",
    "\n",
    "descendance_classe = []\n",
    "for i in range(len(tableau_classes)):\n",
    "    if not any(is_subset(tableau_classes[i], tableau_classes[j]) for j in range(len(tableau_classes)) if i != j):\n",
    "        descendance_classe.append(tableau_classes[i])\n",
    "\n",
    "# Afficher le résultat\n",
    "print(tableau_classes)\n",
    "\n",
    "# Afficher le résultat\n",
    "print(descendance_classe)"
   ]
  },
  {
   "cell_type": "markdown",
   "metadata": {},
   "source": [
    "On récupère la liste des images de l'évaluation, si elle est reconnue ou non, si oui 1, sinon 0. Et on formate le fichier pour qu'il soit exploitable par la suite."
   ]
  },
  {
   "cell_type": "code",
   "execution_count": 3,
   "metadata": {
    "ExecuteTime": {
     "end_time": "2023-06-06T18:53:30.377373Z",
     "start_time": "2023-06-06T18:53:30.371341Z"
    }
   },
   "outputs": [
    {
     "name": "stdout",
     "output_type": "stream",
     "text": [
      "[['n01443537_8662', 'goldfish', 0, 1], ['n01443537_8693', 'goldfish', 0, 1], ['n01443537_8719', 'goldfish', 0, 0], ['n01443537_875', 'goldfish', 0, 1], ['n01443537_8787', 'goldfish', 0, 1], ['n01443537_8789', 'goldfish', 0, 1], ['n01443537_8818', 'goldfish', 0, 1], ['n01443537_883', 'goldfish', 0, 1], ['n01443537_8841', 'goldfish', 0, 1], ['n01443537_8868', 'goldfish', 0, 1], ['n01443537_888', 'goldfish', 0, 1], ['n01443537_891', 'goldfish', 0, 1], ['n01443537_8938', 'goldfish', 0, 1], ['n01443537_894', 'goldfish', 0, 1], ['n01443537_896', 'goldfish', 0, 1], ['n01443537_8989', 'goldfish', 0, 1], ['n01443537_9048', 'goldfish', 0, 1], ['n01443537_9069', 'goldfish', 0, 1], ['n01443537_9106', 'goldfish', 0, 1], ['n01443537_9160', 'goldfish', 0, 1], ['n01443537_9161', 'goldfish', 0, 1], ['n01443537_9204', 'goldfish', 0, 1], ['n01443537_9265', 'goldfish', 0, 0], ['n01443537_9315', 'goldfish', 0, 1], ['n01443537_9338', 'goldfish', 0, 1], ['n01443537_9347', 'goldfish', 0, 1], ['n01443537_9364', 'goldfish', 0, 1], ['n01443537_9438', 'goldfish', 0, 1], ['n01443537_9444', 'goldfish', 0, 1], ['n01443537_9475', 'goldfish', 0, 1], ['n01443537_9483', 'goldfish', 0, 1], ['n01443537_9500', 'goldfish', 0, 1], ['n01443537_951', 'goldfish', 0, 1], ['n01443537_9529', 'goldfish', 0, 1], ['n01443537_9531', 'goldfish', 0, 1], ['n01443537_9534', 'goldfish', 0, 1], ['n01443537_9552', 'goldfish', 0, 1], ['n01443537_9558', 'goldfish', 0, 1], ['n01443537_957', 'goldfish', 0, 1], ['n01443537_9587', 'goldfish', 0, 1], ['n01443537_9603', 'goldfish', 0, 1], ['n01443537_962', 'goldfish', 0, 1], ['n01443537_9621', 'goldfish', 0, 1], ['n01443537_963', 'goldfish', 0, 1], ['n01443537_9651', 'goldfish', 0, 1], ['n01443537_9661', 'goldfish', 0, 1], ['n01443537_9703', 'goldfish', 0, 1], ['n01443537_9712', 'goldfish', 0, 1], ['n01443537_9740', 'goldfish', 0, 1], ['n01443537_9743', 'goldfish', 0, 1], ['n01443537_9744', 'goldfish', 0, 1], ['n01443537_9748', 'goldfish', 0, 1], ['n01443537_9753', 'goldfish', 0, 0], ['n01443537_9799', 'goldfish', 0, 1], ['n01443537_9812', 'goldfish', 0, 1], ['n01443537_9816', 'goldfish', 0, 1], ['n01443537_9836', 'goldfish', 0, 1], ['n01443537_9841', 'goldfish', 0, 0], ['n01443537_9869', 'goldfish', 0, 0], ['n01443537_9871', 'goldfish', 0, 1], ['n01443537_9877', 'goldfish', 0, 1], ['n01443537_9930', 'goldfish', 0, 1], ['n01443537_9945', 'goldfish', 0, 1], ['n01443537_9946', 'goldfish', 0, 0], ['n01443537_9961', 'goldfish', 0, 1], ['n01443537_9977', 'goldfish', 0, 0], ['n01484850_8749', 'great white shark', 0, 0], ['n01484850_875', 'great white shark', 0, 0], ['n01484850_8780', 'great white shark', 0, 0], ['n01484850_8788', 'great white shark', 0, 1], ['n01484850_8792', 'great white shark', 0, 1], ['n01484850_8799', 'great white shark', 0, 1], ['n01484850_8842', 'great white shark', 0, 1], ['n01484850_8845', 'great white shark', 0, 1], ['n01484850_8849', 'great white shark', 0, 1], ['n01484850_8851', 'great white shark', 0, 1], ['n01484850_8866', 'great white shark', 0, 0], ['n01484850_8886', 'great white shark', 0, 1], ['n01484850_8911', 'great white shark', 0, 1], ['n01484850_8943', 'great white shark', 0, 1], ['n01484850_8947', 'great white shark', 0, 1], ['n01484850_8956', 'great white shark', 0, 1], ['n01484850_8967', 'great white shark', 0, 0], ['n01484850_8979', 'great white shark', 0, 1], ['n01484850_8983', 'great white shark', 0, 1], ['n01484850_899', 'great white shark', 0, 1], ['n01484850_8994', 'great white shark', 0, 1], ['n01484850_9001', 'great white shark', 0, 1], ['n01484850_9006', 'great white shark', 0, 1], ['n01484850_9008', 'great white shark', 0, 1], ['n01484850_9011', 'great white shark', 0, 0], ['n01484850_9040', 'great white shark', 0, 1], ['n01484850_9053', 'great white shark', 0, 1], ['n01484850_9063', 'great white shark', 0, 1], ['n01484850_9071', 'great white shark', 0, 1], ['n01484850_9078', 'great white shark', 0, 1], ['n01484850_9174', 'great white shark', 0, 0], ['n01484850_9193', 'great white shark', 0, 1], ['n01484850_9204', 'great white shark', 0, 1], ['n01484850_927', 'great white shark', 0, 1], ['n01484850_931', 'great white shark', 0, 1], ['n01484850_9311', 'great white shark', 0, 1], ['n01484850_936', 'great white shark', 0, 1], ['n01484850_9386', 'great white shark', 0, 1], ['n01484850_9419', 'great white shark', 0, 1], ['n01484850_9424', 'great white shark', 0, 1], ['n01484850_9425', 'great white shark', 0, 0], ['n01484850_9473', 'great white shark', 0, 1], ['n01484850_9474', 'great white shark', 0, 1], ['n01484850_9480', 'great white shark', 0, 1], ['n01484850_9498', 'great white shark', 0, 1], ['n01484850_95', 'great white shark', 0, 1], ['n01484850_9534', 'great white shark', 0, 1], ['n01484850_9549', 'great white shark', 0, 1], ['n01484850_9558', 'great white shark', 0, 1], ['n01484850_9617', 'great white shark', 0, 1], ['n01484850_9622', 'great white shark', 0, 1], ['n01484850_9628', 'great white shark', 0, 1], ['n01484850_9667', 'great white shark', 0, 1], ['n01484850_9680', 'great white shark', 0, 1], ['n01484850_9681', 'great white shark', 0, 1], ['n01484850_9684', 'great white shark', 0, 1], ['n01484850_9690', 'great white shark', 0, 1], ['n01484850_9733', 'great white shark', 0, 1], ['n01484850_977', 'great white shark', 0, 1], ['n01484850_9770', 'great white shark', 0, 1], ['n01484850_9813', 'great white shark', 0, 1], ['n01484850_9843', 'great white shark', 0, 1], ['n01484850_9905', 'great white shark', 0, 1], ['n01484850_9930', 'great white shark', 0, 1], ['n01484850_9951', 'great white shark', 0, 1], ['n01484850_9995', 'great white shark', 0, 1], ['n01537544_9097', 'indigo bunting', 0, 1], ['n01537544_9098', 'indigo bunting', 0, 1], ['n01537544_9132', 'indigo bunting', 0, 1], ['n01537544_9138', 'indigo bunting', 0, 1], ['n01537544_9162', 'indigo bunting', 0, 1], ['n01537544_9179', 'indigo bunting', 0, 1], ['n01537544_9184', 'indigo bunting', 0, 1], ['n01537544_9188', 'indigo bunting', 0, 1], ['n01537544_9198', 'indigo bunting', 0, 1], ['n01537544_9202', 'indigo bunting', 0, 1], ['n01537544_9206', 'indigo bunting', 0, 0], ['n01537544_9213', 'indigo bunting', 0, 1], ['n01537544_9223', 'indigo bunting', 0, 1], ['n01537544_9234', 'indigo bunting', 0, 1], ['n01537544_9247', 'indigo bunting', 0, 1], ['n01537544_9249', 'indigo bunting', 0, 1], ['n01537544_9345', 'indigo bunting', 0, 1], ['n01537544_9379', 'indigo bunting', 0, 1], ['n01537544_938', 'indigo bunting', 0, 1], ['n01537544_9384', 'indigo bunting', 0, 1], ['n01537544_9387', 'indigo bunting', 0, 1], ['n01537544_9426', 'indigo bunting', 0, 1], ['n01537544_9431', 'indigo bunting', 0, 1], ['n01537544_9440', 'indigo bunting', 0, 1], ['n01537544_9464', 'indigo bunting', 0, 1], ['n01537544_9472', 'indigo bunting', 0, 1], ['n01537544_950', 'indigo bunting', 0, 1], ['n01537544_9506', 'indigo bunting', 0, 1], ['n01537544_9528', 'indigo bunting', 0, 1], ['n01537544_9538', 'indigo bunting', 0, 0], ['n01537544_9540', 'indigo bunting', 0, 1], ['n01537544_9541', 'indigo bunting', 0, 1], ['n01537544_9542', 'indigo bunting', 0, 1], ['n01537544_9556', 'indigo bunting', 0, 1], ['n01537544_956', 'indigo bunting', 0, 1], ['n01537544_9569', 'indigo bunting', 0, 1], ['n01537544_9580', 'indigo bunting', 0, 1], ['n01537544_9599', 'indigo bunting', 0, 0], ['n01537544_9601', 'indigo bunting', 0, 1], ['n01537544_9625', 'indigo bunting', 0, 1], ['n01537544_9663', 'indigo bunting', 0, 1], ['n01537544_9671', 'indigo bunting', 0, 1], ['n01537544_9683', 'indigo bunting', 0, 1], ['n01537544_969', 'indigo bunting', 0, 1], ['n01537544_9736', 'indigo bunting', 0, 1], ['n01537544_9745', 'indigo bunting', 0, 1], ['n01537544_9780', 'indigo bunting', 0, 1], ['n01537544_9796', 'indigo bunting', 0, 1], ['n01537544_98', 'indigo bunting', 0, 1], ['n01537544_9801', 'indigo bunting', 0, 1], ['n01537544_9805', 'indigo bunting', 0, 1], ['n01537544_9815', 'indigo bunting', 0, 1], ['n01537544_9816', 'indigo bunting', 0, 1], ['n01537544_9823', 'indigo bunting', 0, 1], ['n01537544_9830', 'indigo bunting', 0, 1], ['n01537544_9832', 'indigo bunting', 0, 1], ['n01537544_9851', 'indigo bunting', 0, 1], ['n01537544_9881', 'indigo bunting', 0, 1], ['n01537544_9887', 'indigo bunting', 0, 1], ['n01537544_9892', 'indigo bunting', 0, 1], ['n01537544_99', 'indigo bunting', 0, 1], ['n01537544_9922', 'indigo bunting', 0, 1], ['n01537544_9944', 'indigo bunting', 0, 1], ['n01537544_9949', 'indigo bunting', 0, 1], ['n01537544_9964', 'indigo bunting', 0, 1], ['n01537544_9994', 'indigo bunting', 0, 1], ['n01614925_9149', 'bald eagle', 0, 1], ['n01614925_9155', 'bald eagle', 0, 1], ['n01614925_9157', 'bald eagle', 0, 0], ['n01614925_9158', 'bald eagle', 0, 1], ['n01614925_9160', 'bald eagle', 0, 1], ['n01614925_9167', 'bald eagle', 0, 0], ['n01614925_9184', 'bald eagle', 0, 1], ['n01614925_9190', 'bald eagle', 0, 1], ['n01614925_920', 'bald eagle', 0, 0], ['n01614925_9220', 'bald eagle', 0, 0], ['n01614925_9221', 'bald eagle', 0, 0], ['n01614925_9248', 'bald eagle', 0, 0], ['n01614925_9255', 'bald eagle', 0, 1], ['n01614925_9259', 'bald eagle', 0, 1], ['n01614925_9265', 'bald eagle', 0, 0], ['n01614925_9295', 'bald eagle', 0, 1], ['n01614925_9303', 'bald eagle', 0, 0], ['n01614925_9309', 'bald eagle', 0, 1], ['n01614925_9331', 'bald eagle', 0, 1], ['n01614925_934', 'bald eagle', 0, 1], ['n01614925_9349', 'bald eagle', 0, 0], ['n01614925_9351', 'bald eagle', 0, 1], ['n01614925_9386', 'bald eagle', 0, 0], ['n01614925_9394', 'bald eagle', 0, 1], ['n01614925_9395', 'bald eagle', 0, 1], ['n01614925_9396', 'bald eagle', 0, 1], ['n01614925_9400', 'bald eagle', 0, 1], ['n01614925_9437', 'bald eagle', 0, 1], ['n01614925_9438', 'bald eagle', 0, 0], ['n01614925_9450', 'bald eagle', 0, 1], ['n01614925_9461', 'bald eagle', 0, 1], ['n01614925_9471', 'bald eagle', 0, 0], ['n01614925_9474', 'bald eagle', 0, 1], ['n01614925_9546', 'bald eagle', 0, 1], ['n01614925_9570', 'bald eagle', 0, 1], ['n01614925_9577', 'bald eagle', 0, 1], ['n01614925_9594', 'bald eagle', 0, 1], ['n01614925_9600', 'bald eagle', 0, 1], ['n01614925_9624', 'bald eagle', 0, 1], ['n01614925_9631', 'bald eagle', 0, 1], ['n01614925_9638', 'bald eagle', 0, 1], ['n01614925_9657', 'bald eagle', 0, 1], ['n01614925_9675', 'bald eagle', 0, 1], ['n01614925_9687', 'bald eagle', 0, 1], ['n01614925_9689', 'bald eagle', 0, 1], ['n01614925_9697', 'bald eagle', 0, 1], ['n01614925_9700', 'bald eagle', 0, 1], ['n01614925_9720', 'bald eagle', 0, 1], ['n01614925_9730', 'bald eagle', 0, 1], ['n01614925_9733', 'bald eagle', 0, 1], ['n01614925_9736', 'bald eagle', 0, 1], ['n01614925_9759', 'bald eagle', 0, 1], ['n01614925_9762', 'bald eagle', 0, 1], ['n01614925_9763', 'bald eagle', 0, 1], ['n01614925_9764', 'bald eagle', 0, 1], ['n01614925_9799', 'bald eagle', 0, 1], ['n01614925_9802', 'bald eagle', 0, 1], ['n01614925_9840', 'bald eagle', 0, 1], ['n01614925_9843', 'bald eagle', 0, 1], ['n01614925_986', 'bald eagle', 0, 1], ['n01614925_9861', 'bald eagle', 0, 0], ['n01614925_9901', 'bald eagle', 0, 1], ['n01614925_9920', 'bald eagle', 0, 1], ['n01614925_9967', 'bald eagle', 0, 1], ['n01614925_9970', 'bald eagle', 0, 1], ['n01614925_9987', 'bald eagle', 0, 1], ['n02114367_8883', 'wolf', 0, 0], ['n02114367_8910', 'wolf', 0, 1], ['n02114367_8965', 'wolf', 0, 1], ['n02114367_9012', 'wolf', 0, 1], ['n02114367_9015', 'wolf', 0, 1], ['n02114367_902', 'wolf', 0, 1], ['n02114367_9077', 'wolf', 0, 1], ['n02114367_911', 'wolf', 0, 0], ['n02114367_9119', 'wolf', 0, 1], ['n02114367_9141', 'wolf', 0, 1], ['n02114367_9142', 'wolf', 0, 1], ['n02114367_9155', 'wolf', 0, 1], ['n02114367_9166', 'wolf', 0, 1], ['n02114367_9188', 'wolf', 0, 1], ['n02114367_92', 'wolf', 0, 0], ['n02114367_9244', 'wolf', 0, 0], ['n02114367_9251', 'wolf', 0, 1], ['n02114367_9270', 'wolf', 0, 1], ['n02114367_9299', 'wolf', 0, 1], ['n02114367_9307', 'wolf', 0, 1], ['n02114367_9315', 'wolf', 0, 1], ['n02114367_9319', 'wolf', 0, 1], ['n02114367_934', 'wolf', 0, 1], ['n02114367_9349', 'wolf', 0, 1], ['n02114367_9370', 'wolf', 0, 1], ['n02114367_9373', 'wolf', 0, 1], ['n02114367_9374', 'wolf', 0, 1], ['n02114367_939', 'wolf', 0, 0], ['n02114367_940', 'wolf', 0, 1], ['n02114367_9404', 'wolf', 0, 1], ['n02114367_9424', 'wolf', 0, 1], ['n02114367_9428', 'wolf', 0, 1], ['n02114367_9430', 'wolf', 0, 1], ['n02114367_9441', 'wolf', 0, 0], ['n02114367_9445', 'wolf', 0, 1], ['n02114367_945', 'wolf', 0, 0], ['n02114367_9459', 'wolf', 0, 1], ['n02114367_9476', 'wolf', 0, 1], ['n02114367_9582', 'wolf', 0, 1], ['n02114367_9593', 'wolf', 0, 1], ['n02114367_9599', 'wolf', 0, 1], ['n02114367_964', 'wolf', 0, 1], ['n02114367_9649', 'wolf', 0, 0], ['n02114367_9657', 'wolf', 0, 1], ['n02114367_9659', 'wolf', 0, 1], ['n02114367_9671', 'wolf', 0, 1], ['n02114367_9676', 'wolf', 0, 0], ['n02114367_9682', 'wolf', 0, 0], ['n02114367_9687', 'wolf', 0, 1], ['n02114367_9692', 'wolf', 0, 1], ['n02114367_9701', 'wolf', 0, 1], ['n02114367_971', 'wolf', 0, 1], ['n02114367_9722', 'wolf', 0, 0], ['n02114367_9739', 'wolf', 0, 0], ['n02114367_975', 'wolf', 0, 1], ['n02114367_979', 'wolf', 0, 0], ['n02114367_9810', 'wolf', 0, 1], ['n02114367_9812', 'wolf', 0, 1], ['n02114367_9814', 'wolf', 0, 1], ['n02114367_9837', 'wolf', 0, 0], ['n02114367_986', 'wolf', 0, 1], ['n02114367_991', 'wolf', 0, 1], ['n02114367_9917', 'wolf', 0, 1], ['n02114367_9936', 'wolf', 0, 0], ['n02114367_9940', 'wolf', 0, 0], ['n02114367_9983', 'wolf', 0, 1], ['n02133161_893', 'bear', 0, 1], ['n02133161_894', 'bear', 0, 0], ['n02133161_8942', 'bear', 0, 1], ['n02133161_8947', 'bear', 0, 1], ['n02133161_895', 'bear', 0, 0], ['n02133161_897', 'bear', 0, 0], ['n02133161_8982', 'bear', 0, 1], ['n02133161_9013', 'bear', 0, 1], ['n02133161_903', 'bear', 0, 1], ['n02133161_9037', 'bear', 0, 1], ['n02133161_9039', 'bear', 0, 1], ['n02133161_9088', 'bear', 0, 1], ['n02133161_9098', 'bear', 0, 1], ['n02133161_911', 'bear', 0, 1], ['n02133161_9134', 'bear', 0, 0], ['n02133161_9138', 'bear', 0, 1], ['n02133161_9142', 'bear', 0, 1], ['n02133161_92', 'bear', 0, 1], ['n02133161_928', 'bear', 0, 0], ['n02133161_9364', 'bear', 0, 1], ['n02133161_9371', 'bear', 0, 1], ['n02133161_9387', 'bear', 0, 1], ['n02133161_939', 'bear', 0, 0], ['n02133161_941', 'bear', 0, 1], ['n02133161_9424', 'bear', 0, 0], ['n02133161_9434', 'bear', 0, 1], ['n02133161_9449', 'bear', 0, 1], ['n02133161_9463', 'bear', 0, 1], ['n02133161_948', 'bear', 0, 1], ['n02133161_9490', 'bear', 0, 0], ['n02133161_953', 'bear', 0, 1], ['n02133161_955', 'bear', 0, 1], ['n02133161_958', 'bear', 0, 1], ['n02133161_9583', 'bear', 0, 1], ['n02133161_959', 'bear', 0, 1], ['n02133161_9600', 'bear', 0, 1], ['n02133161_9642', 'bear', 0, 0], ['n02133161_9643', 'bear', 0, 0], ['n02133161_9669', 'bear', 0, 1], ['n02133161_9672', 'bear', 0, 0], ['n02133161_968', 'bear', 0, 0], ['n02133161_97', 'bear', 0, 1], ['n02133161_9724', 'bear', 0, 1], ['n02133161_9746', 'bear', 0, 1], ['n02133161_975', 'bear', 0, 0], ['n02133161_976', 'bear', 0, 1], ['n02133161_9783', 'bear', 0, 1], ['n02133161_9786', 'bear', 0, 1], ['n02133161_9809', 'bear', 0, 0], ['n02133161_9816', 'bear', 0, 0], ['n02133161_982', 'bear', 0, 0], ['n02133161_9827', 'bear', 0, 1], ['n02133161_9844', 'bear', 0, 1], ['n02133161_9863', 'bear', 0, 0], ['n02133161_987', 'bear', 0, 1], ['n02133161_9888', 'bear', 0, 1], ['n02133161_989', 'bear', 0, 1], ['n02133161_991', 'bear', 0, 1], ['n02133161_9937', 'bear', 0, 1], ['n02133161_9949', 'bear', 0, 1], ['n02133161_9950', 'bear', 0, 1], ['n02133161_9953', 'bear', 0, 1], ['n02133161_9960', 'bear', 0, 1], ['n02133161_9962', 'bear', 0, 1], ['n02133161_9973', 'bear', 0, 1], ['n02133161_9978', 'bear', 0, 0]]\n"
     ]
    }
   ],
   "source": [
    "image_reconnue = pd.read_csv(\"./reconnues.csv\")\n",
    "\n",
    "image_reconnue.head()\n",
    "\n",
    "# Le transformer en tableau de la forme [[image, reconnue], ...]\n",
    "tableau_image_reconnue = image_reconnue.values.tolist()\n",
    "\n",
    "# Afficher le résultat\n",
    "print(tableau_image_reconnue)"
   ]
  },
  {
   "cell_type": "markdown",
   "source": [
    "Retrouvons le xml de chaque image et récupérons les informations qui nous intéressent."
   ],
   "metadata": {
    "collapsed": false
   }
  },
  {
   "cell_type": "code",
   "execution_count": 4,
   "outputs": [
    {
     "name": "stdout",
     "output_type": "stream",
     "text": [
      "('n01440764', '375', '500', '3', './ILSVRC/Annotations/CLS-LOC/train/n01440764/n01440764_18.xml', True)\n"
     ]
    }
   ],
   "source": [
    "import xml.etree.ElementTree as ET\n",
    "import os\n",
    "\n",
    "\n",
    "def get_infos_xml(nom_image_f):\n",
    "    # Récupérer le nom du sous-dossier, split avant le _\n",
    "    nom_sous_dossier = nom_image_f.split(\"_\")[0]\n",
    "\n",
    "    url = \"./ILSVRC/Annotations/CLS-LOC/train/\" + nom_sous_dossier + \"/\" + nom_image_f + \".xml\"\n",
    "    # Initialiser les variables\n",
    "    nom_animal_f, width, height, depth = None, None, None, None\n",
    "\n",
    "    trouve = os.path.exists(url)\n",
    "    if trouve:\n",
    "        # Récupérer le xml\n",
    "\n",
    "        tree = ET.parse(url)\n",
    "        root = tree.getroot()\n",
    "\n",
    "        # Récupérer les informations\n",
    "        for child in root:\n",
    "            if child.tag == \"object\":\n",
    "                for child2 in child:\n",
    "                    if child2.tag == \"name\":\n",
    "                        nom_animal_f = child2.text\n",
    "                    else:\n",
    "                        pass\n",
    "            elif child.tag == \"size\":\n",
    "                for child2 in child:\n",
    "                    if child2.tag == \"width\":\n",
    "                        width = child2.text\n",
    "                    elif child2.tag == \"height\":\n",
    "                        height = child2.text\n",
    "                    elif child2.tag == \"depth\":\n",
    "                        depth = child2.text\n",
    "                    else:\n",
    "                        pass\n",
    "            else:\n",
    "                pass\n",
    "    else:\n",
    "        nom_animal_f, width, height, depth = \"\", 0, 0, 0\n",
    "\n",
    "    return nom_animal_f, width, height, depth, url, trouve\n",
    "\n",
    "\n",
    "# Afficher le résultat\n",
    "print(get_infos_xml(\"n01440764_18\"))"
   ],
   "metadata": {
    "collapsed": false,
    "ExecuteTime": {
     "end_time": "2023-06-06T18:53:30.451156Z",
     "start_time": "2023-06-06T18:53:30.380339Z"
    }
   }
  },
  {
   "cell_type": "markdown",
   "metadata": {},
   "source": [
    "Concernant la contrainte de la propriété possède pour les sous-classes d'Animalia, c'est un concept avancé dans OWL appelé \"Restrictions sur les propriétés\". Pour répondre au mieux à cette contrainte, nous allons utiliser AllDisjoint et AllDifferent."
   ]
  },
  {
   "cell_type": "code",
   "execution_count": 5,
   "metadata": {
    "ExecuteTime": {
     "end_time": "2023-06-06T18:53:31.777583Z",
     "start_time": "2023-06-06T18:53:30.872208Z"
    }
   },
   "outputs": [
    {
     "name": "stderr",
     "output_type": "stream",
     "text": [
      "* Owlready2 * Warning: optimized Cython parser module 'owlready2_optimized' is not available, defaulting to slower Python implementation\n",
      "\n",
      "Warning: SQLite3 version 3.40.0 and 3.41.2 have huge performance regressions; please install version 3.41.1 or 3.42!\n",
      "\n"
     ]
    },
    {
     "name": "stdout",
     "output_type": "stream",
     "text": [
      "['mammal', 'elephant', 'asian_elephant', 'felidae', 'big_cat', 'fish', 'electric_fish', 'food_ingredient', 'vegetable', 'penguin']\n",
      "['animal', 'bear_class', 'felidae', 'big_cat', 'fish', 'electric_fish', 'food_ingredient', 'vegetable', 'penguin']\n",
      "['animal', 'bear_class', 'mammal', 'elephant', 'asian_elephant', 'fish', 'electric_fish', 'food_ingredient', 'vegetable', 'penguin']\n",
      "['animal', 'bear_class', 'mammal', 'elephant', 'asian_elephant', 'felidae', 'big_cat', 'food_ingredient', 'vegetable', 'penguin']\n",
      "['animal', 'bear_class', 'mammal', 'elephant', 'asian_elephant', 'felidae', 'big_cat', 'fish', 'electric_fish', 'penguin']\n",
      "['animal', 'bear_class', 'mammal', 'elephant', 'asian_elephant', 'felidae', 'big_cat', 'fish', 'electric_fish', 'food_ingredient', 'vegetable']\n",
      "L'animal indigo_bunting n'a pas été reconnu\n",
      "L'animal tree_frog n'a pas été reconnu\n",
      "L'animal garter_snake n'a pas été reconnu\n",
      "L'animal agama n'a pas été reconnu\n",
      "L'animal goldfish n'a pas été reconnu\n",
      "L'animal bald_eagle n'a pas été reconnu\n",
      "L'animal great_white_shark n'a pas été reconnu\n",
      "L'animal dugong n'a pas été reconnu\n",
      "L'animal barn_spider n'a pas été reconnu\n",
      "L'animal black_swan n'a pas été reconnu\n",
      "L'animal strawberry n'a pas été reconnu\n",
      "L'animal impala n'a pas été reconnu\n",
      "L'animal dhole n'a pas été reconnu\n",
      "L'animal meerkat n'a pas été reconnu\n",
      "L'animal sloth_bear n'a pas été reconnu\n",
      "L'animal alligator_lizard n'a pas été reconnu\n",
      "L'animal platypus n'a pas été reconnu\n",
      "L'animal black_grouse n'a pas été reconnu\n",
      "L'animal bullfrog n'a pas été reconnu\n",
      "L'animal mink n'a pas été reconnu\n",
      "L'animal rapeseed n'a pas été reconnu\n",
      "L'animal bison n'a pas été reconnu\n",
      "L'animal magpie n'a pas été reconnu\n",
      "L'animal sturgeon n'a pas été reconnu\n",
      "L'animal three-toed_sloth n'a pas été reconnu\n",
      "L'animal gibbon n'a pas été reconnu\n",
      "L'animal king_crab n'a pas été reconnu\n",
      "L'animal brambling n'a pas été reconnu\n",
      "L'animal red-breasted_merganser n'a pas été reconnu\n",
      "L'animal ruffed_grouse n'a pas été reconnu\n",
      "L'animal scorpion n'a pas été reconnu\n",
      "L'animal proboscis_monkey n'a pas été reconnu\n",
      "L'animal indian_cobra n'a pas été reconnu\n",
      "L'animal american_alligator n'a pas été reconnu\n",
      "L'animal leaf_beetle n'a pas été reconnu\n",
      "L'animal tiger n'a pas été reconnu\n",
      "L'animal great_grey_owl n'a pas été reconnu\n",
      "L'animal gila_monster n'a pas été reconnu\n",
      "L'animal sulphur-crested_cockatoo n'a pas été reconnu\n",
      "L'animal jacamar n'a pas été reconnu\n",
      "L'animal boa_constrictor n'a pas été reconnu\n",
      "L'animal axolotl n'a pas été reconnu\n",
      "L'animal starfish n'a pas été reconnu\n",
      "L'animal white_stork n'a pas été reconnu\n",
      "L'animal black_stork n'a pas été reconnu\n",
      "L'animal guenon n'a pas été reconnu\n",
      "L'animal hornbill n'a pas été reconnu\n",
      "L'animal ruddy_turnstone n'a pas été reconnu\n",
      "L'animal hermit_crab n'a pas été reconnu\n",
      "L'animal guinea_pig n'a pas été reconnu\n",
      "L'animal zebra n'a pas été reconnu\n",
      "L'animal giant_panda n'a pas été reconnu\n",
      "L'animal koala n'a pas été reconnu\n",
      "L'animal gorilla n'a pas été reconnu\n",
      "L'animal little_blue_heron n'a pas été reconnu\n",
      "L'animal house_finch n'a pas été reconnu\n",
      "L'animal dingo n'a pas été reconnu\n",
      "L'animal orangutan n'a pas été reconnu\n",
      "L'animal water_buffalo n'a pas été reconnu\n",
      "L'animal centipede n'a pas été reconnu\n",
      "L'animal hummingbird n'a pas été reconnu\n",
      "L'animal coyote n'a pas été reconnu\n",
      "L'animal american_coot n'a pas été reconnu\n",
      "L'animal beaver n'a pas été reconnu\n",
      "L'animal armadillo n'a pas été reconnu\n",
      "L'animal gar n'a pas été reconnu\n",
      "L'animal mantis n'a pas été reconnu\n",
      "L'animal albatross n'a pas été reconnu\n",
      "L'animal gyromitra n'a pas été reconnu\n",
      "L'animal hartebeest n'a pas été reconnu\n",
      "L'animal hippopotamus n'a pas été reconnu\n",
      "L'animal lynx n'a pas été reconnu\n",
      "L'animal fox_squirrel n'a pas été reconnu\n",
      "L'animal rock_beauty n'a pas été reconnu\n",
      "L'animal box_turtle n'a pas été reconnu\n",
      "L'animal kit_fox n'a pas été reconnu\n",
      "L'animal tench n'a pas été reconnu\n",
      "L'animal red_fox n'a pas été reconnu\n",
      "L'animal sea_urchin n'a pas été reconnu\n",
      "L'animal dowitcher n'a pas été reconnu\n",
      "L'animal junco n'a pas été reconnu\n",
      "L'animal echidna n'a pas été reconnu\n",
      "L'animal wolf n'a pas été reconnu\n",
      "L'animal bear n'a pas été reconnu\n"
     ]
    }
   ],
   "source": [
    "from owlready2 import Thing, AllDisjoint\n",
    "import owlready2 as owl\n",
    "\n",
    "# Création d'un URI\n",
    "onto = owl.get_ontology(\"http://example.com/animalia.owl\")\n",
    "\n",
    "# Définir la classe racine Animalia\n",
    "with onto:\n",
    "    class Animalia(Thing):\n",
    "        pass\n",
    "\n",
    "# Définir les sous-classes\n",
    "with onto:\n",
    "    for i in range(len(descendance_classe)):\n",
    "        for j in range(len(descendance_classe[i])):\n",
    "            if j == 0:  # La sous-classe descent de animalia\n",
    "                nom_classe = descendance_classe[i][j].replace(\" \", \"_\")  # Remplacer les espaces par des underscores\n",
    "                # Créer une classe dynamiquement\n",
    "                classe = type(nom_classe, (Animalia,), {})\n",
    "            else:  # c'est une sous-classe du précédent\n",
    "                nom_classe = descendance_classe[i][j].replace(\" \", \"_\")  # Remplacer les espaces par des underscores\n",
    "                # Créer une classe dynamiquement\n",
    "                classe = type(nom_classe, (classe,), {})\n",
    "\n",
    "# Définir les classes orphelines\n",
    "with onto:\n",
    "    class SansFamille(Animalia):\n",
    "        pass\n",
    "\n",
    "# Définition de la classe image avec son nom et si elle est reconnue ou non\n",
    "with onto:\n",
    "    class Image(Thing):\n",
    "        pass\n",
    "\n",
    "\n",
    "    class Reconnue(Image >> bool):\n",
    "        pass\n",
    "\n",
    "\n",
    "    class URL(Image >> str):\n",
    "        pass\n",
    "\n",
    "\n",
    "    class Width(Image >> int):\n",
    "        pass\n",
    "\n",
    "\n",
    "    class Height(Image >> int):\n",
    "        pass\n",
    "\n",
    "\n",
    "    class Depth(Image >> int):\n",
    "        pass\n",
    "\n",
    "# Définir les exclusions, chaque sous tableau du tableau descendance_classe contient les sous-classes d'une classe, donc on va créer une exclusion pour chaque sous tableau\n",
    "with onto:\n",
    "    for i in range(len(descendance_classe)):\n",
    "        aux = []\n",
    "        for j in range(len(descendance_classe)):\n",
    "            if i != j:\n",
    "                for k in range(len(descendance_classe[j])):\n",
    "                    aux.append(descendance_classe[j][k].replace(\" \", \"_\"))\n",
    "        print(aux)\n",
    "        for n in range(len(descendance_classe[i])):\n",
    "            aux.append(descendance_classe[i][n].replace(\" \", \"_\"))\n",
    "            AllDisjoint(aux)\n",
    "\n",
    "# Définir les différentes propriétés\n",
    "with onto:\n",
    "    class CaracteristiqueMorphologique(Thing):\n",
    "        pass\n",
    "\n",
    "\n",
    "    class Patte(CaracteristiqueMorphologique):\n",
    "        pass\n",
    "\n",
    "\n",
    "    class Museau(CaracteristiqueMorphologique):\n",
    "        pass\n",
    "\n",
    "\n",
    "    class Aile(CaracteristiqueMorphologique):\n",
    "        pass\n",
    "\n",
    "\n",
    "    class Bec(CaracteristiqueMorphologique):\n",
    "        pass\n",
    "\n",
    "\n",
    "    class Queue(CaracteristiqueMorphologique):\n",
    "        pass\n",
    "\n",
    "\n",
    "    class Poil(CaracteristiqueMorphologique):\n",
    "        pass\n",
    "\n",
    "\n",
    "    class Plume(CaracteristiqueMorphologique):\n",
    "        pass\n",
    "\n",
    "# Pour définir les associations, on utilise la propriété contient, qui permet de relier une image à un animal, et on lui précisera si l'image a bien été reconnue, avec la propriété possède, qui permet de relier un animal à une caractéristique morphologique.\n",
    "with onto:\n",
    "    class Contient(owl.ObjectProperty):\n",
    "        domain = [Image]\n",
    "        range = [Animalia]\n",
    "        pass\n",
    "\n",
    "\n",
    "    class Possede(owl.ObjectProperty):\n",
    "        domain = [Animalia]\n",
    "        range = [CaracteristiqueMorphologique]\n",
    "        pass\n",
    "\n",
    "# On ajoute les animaux à leur classe\n",
    "for i in range(len(tableau[-1])):\n",
    "    if tableau[-1][i] == '0':\n",
    "        nom_animal = tableau_animaux[i].replace(\" \", \"_\")  # Remplacer les espaces par des underscores\n",
    "        print(\"L'animal\", nom_animal, \"n'a pas été reconnu\")\n",
    "        classe = onto[\"SansFamille\"]\n",
    "        nouvel_animal = classe(nom_animal)\n",
    "    else:\n",
    "        nom_classe = tableau[-1][i].replace(\" \", \"_\")  # Remplacer les espaces par des underscores\n",
    "        nom_animal = tableau_animaux[i].replace(\" \", \"_\")  # Remplacer les espaces par des underscores\n",
    "        # Accédez à la classe spécifique\n",
    "        classe = onto[nom_classe]\n",
    "        # Créez une nouvelle instance de cette classe\n",
    "        nouvel_animal = classe(nom_animal)\n",
    "\n",
    "# On ajoute les images à notre ontologie.\n",
    "for i in range(len(tableau_image_reconnue)):\n",
    "    nom_image = tableau_image_reconnue[i][0].replace(\" \", \"_\")  # Remplacer les espaces par des underscores\n",
    "    image_instance = Image(nom_image)\n",
    "    if tableau_image_reconnue[i][3] == 1:\n",
    "        image_instance.Reconnue.append(True)\n",
    "    else:\n",
    "        image_instance.Reconnue.append(False)\n",
    "\n",
    "    # Ajout de l'URL, de la largeur, de la hauteur et de la profondeur de l'image\n",
    "    _, width, height, depth, url, trouve = get_infos_xml(tableau_image_reconnue[i][0])\n",
    "\n",
    "    if trouve:\n",
    "        image_instance.URL.append(url)\n",
    "        image_instance.Width.append(width)\n",
    "        image_instance.Height.append(height)\n",
    "        image_instance.Depth.append(depth)\n",
    "\n",
    "    if tableau_image_reconnue[i][2] == 0:\n",
    "        nom_sous_classe = \"SansFamille\"\n",
    "    else:\n",
    "        nom_sous_classe = tableau_image_reconnue[i][2].replace(\" \", \"_\")\n",
    "\n",
    "    nom_classe = tableau_image_reconnue[i][1].replace(\" \", \"_\")\n",
    "\n",
    "    nom_sous_classe = onto[nom_sous_classe]\n",
    "\n",
    "    classe_instance = onto.search_one(type=nom_sous_classe, iri=\"*\" + nom_classe)\n",
    "\n",
    "    if classe_instance is None:\n",
    "        classe_instance = nom_sous_classe(nom_classe)\n",
    "\n",
    "    image_instance.Contient.append(classe_instance)\n",
    "\n",
    "onto.save(file=\"3_animalia.owl\", format=\"rdfxml\")"
   ]
  },
  {
   "cell_type": "markdown",
   "metadata": {},
   "source": [
    "La liste des caractéristiques que nous devons ajouter manuellement regroupe de manière non exhaustive :\n",
    "- Patte\n",
    "- Museau\n",
    "- Aile\n",
    "- Aile\n",
    "- Bec\n",
    "- Queue\n",
    "- Poil\n",
    "- Plume\n",
    "- ...\n",
    "\n",
    "Nous pouvons les ajouter à la main de la manière suivante :\n",
    "```python\n",
    "class Mammifere(Animalia):\n",
    "        equivalent_to = [Animalia & possede.max(2, Aile) & possede.max(1, Bec) & possede.max(1, Queue) & possede.max(4, Patte) & possede.min(2, Patte) & possede.max(1, Museau) & possede.min(1, Poil)]\n",
    "        pass\n",
    "```\n",
    "Nous pouvons décrire plus précisément les caractéristiques des animaux :\n",
    "```python\n",
    "my_oiseau.bec = [\"court et pointu\"]\n",
    "```"
   ]
  },
  {
   "cell_type": "markdown",
   "metadata": {},
   "source": [
    "On enregistre notre ontologie dans un fichier .owl"
   ]
  },
  {
   "cell_type": "code",
   "execution_count": null,
   "metadata": {
    "ExecuteTime": {
     "start_time": "2023-05-28T17:29:51.975031Z"
    }
   },
   "outputs": [],
   "source": [
    "# onto.save(file=\"3_animalia.owl\", format=\"rdfxml\")"
   ]
  },
  {
   "cell_type": "markdown",
   "metadata": {},
   "source": [
    "L'ontologie est visible dans le fichier suivant : [3_animalia](./3_animalia.owl)."
   ]
  }
 ],
 "metadata": {
  "kernelspec": {
   "display_name": "Python 3 (ipykernel)",
   "language": "python",
   "name": "python3"
  },
  "language_info": {
   "codemirror_mode": {
    "name": "ipython",
    "version": 3
   },
   "file_extension": ".py",
   "mimetype": "text/x-python",
   "name": "python",
   "nbconvert_exporter": "python",
   "pygments_lexer": "ipython3",
   "version": "3.10.11"
  }
 },
 "nbformat": 4,
 "nbformat_minor": 1
}
