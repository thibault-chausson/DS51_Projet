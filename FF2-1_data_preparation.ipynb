{
 "cells": [
  {
   "attachments": {},
   "cell_type": "markdown",
   "metadata": {
    "collapsed": false
   },
   "source": [
    "# II) 1) Classification et explication des données\n",
    "\n",
    "Nous allons maintenant utiliser les données pour faire de la classification et de l'explication. Nous allons utiliser les données de la base de données Image Net qui contient des images de différents animaux.\n",
    "\n",
    "Pour réaliser cette tâche, nous allons utiliser une ensemble d'image issue de la base de données Image Net. Nous allons utiliser les images de 6 classes différentes. Pour chaque classe, nous avons 99% images d'entrainement et 1% images de test. Les classes sont les suivantes :\n",
    "\n",
    "- n02114367 (loup)\n",
    "- n01484850 (requin)\n",
    "- n01614925 (aigle)\n",
    "- n02133161 (ours)\n",
    "- n01537544 (passerin indigo)\n",
    "- n01443537 (poisson rouge)\n",
    "\n",
    "Nous allons utiliser les images d'entrainement pour entrainer un modèle de classification et les images de test pour évaluer la performance du modèle. Nous allons ensuite utiliser les images de test pour expliquer les prédictions du modèle.\n",
    "\n",
    "Nous allons diviser notre travail différentes parties :\n",
    "\n",
    "1) Récupérer les données sur Kaggle et sélectionner les images des classes qui nous intéressent (https://www.kaggle.com/c/imagenet-object-localization-challenge)\n",
    "2) Traiter les données, cela implique de les diviser en classe égale et de les redimensionner, pour ce faire, nous pourrons utiliser des bibliothèques comme OpenCV ou Pillow\n",
    "3) Diviser les données en données d'entrainement et données de test\n",
    "4) Le choix du modèle de classification : nous utiliserons des modèles couramment utilisés pour la classification d'images incluent les réseaux de neurones convolutionnels (CNN), qui ont obtenu de bons résultats dans de nombreux domaines.\n",
    "5) Entrainer un modèle de classification, pour ce faire, nous pourrons utiliser des bibliothèques comme Keras ou PyTorch ou TensorFlow\n",
    "6) Évaluer la performance du modèle sur les données de test, et obtenir l'accuarcy du modèle\n",
    "7) Utiliser les images de test pour expliquer les prédictions du modèle, pour ce faire, nous pourrons utiliser des bibliothèques comme LIME ou SHAP\n"
   ]
  },
  {
   "cell_type": "code",
   "execution_count": 11,
   "metadata": {
    "ExecuteTime": {
     "end_time": "2023-05-14T19:06:10.176373Z",
     "start_time": "2023-05-14T19:06:10.165572Z"
    },
    "collapsed": false
   },
   "outputs": [],
   "source": [
    "# Importer les bibliothèques nécessaires\n",
    "import os\n",
    "import shutil\n",
    "from PIL import Image\n",
    "import numpy as np\n",
    "import matplotlib.pyplot as plt"
   ]
  },
  {
   "cell_type": "code",
   "execution_count": 12,
   "metadata": {
    "ExecuteTime": {
     "end_time": "2023-05-14T19:06:10.176886Z",
     "start_time": "2023-05-14T19:06:10.168213Z"
    },
    "collapsed": false
   },
   "outputs": [],
   "source": [
    "# Définir les classes qui nous intéressent\n",
    "classes_names = {'n02114367': 'loup', 'n01484850': 'requin', 'n01614925': 'aigle', 'n02133161': 'ours', 'n01537544': 'passerin indigo', 'n01443537': 'poisson rouge'}\n",
    "classes = list(classes_names.keys())\n",
    "\n",
    "# Définir le chemin vers les données\n",
    "data_path = './ILSVRC/Data/CLS-LOC/train'"
   ]
  },
  {
   "cell_type": "code",
   "execution_count": 13,
   "metadata": {
    "ExecuteTime": {
     "end_time": "2023-05-14T19:06:10.176987Z",
     "start_time": "2023-05-14T19:06:10.172613Z"
    },
    "collapsed": false
   },
   "outputs": [],
   "source": [
    "# Créer un dossier pour stocker les images des classes qui nous intéressent\n",
    "os.makedirs('./data', exist_ok=True)\n",
    "for c in classes:\n",
    "    os.makedirs('./data/' + c, exist_ok=True)"
   ]
  },
  {
   "cell_type": "code",
   "execution_count": 14,
   "metadata": {
    "ExecuteTime": {
     "end_time": "2023-05-14T19:07:14.009748Z",
     "start_time": "2023-05-14T19:06:10.178704Z"
    },
    "collapsed": false
   },
   "outputs": [
    {
     "name": "stdout",
     "output_type": "stream",
     "text": [
      "Nombre d'images invalides: 6\r"
     ]
    }
   ],
   "source": [
    "from PIL import UnidentifiedImageError\n",
    "\n",
    "# Copier 2000 images des classes qui nous intéressent dans le dossier que nous venons de créer\n",
    "\n",
    "taille_data = 2000\n",
    "inv = 0\n",
    "for c in classes:\n",
    "    files = os.listdir(os.path.join(data_path, c))\n",
    "    for f in files[:taille_data]:\n",
    "        # Vérifier si le fichier est un fichier d'image valide\n",
    "        try:\n",
    "            im = Image.open(os.path.join(data_path, c, f))\n",
    "            im.verify()\n",
    "            shutil.copy(os.path.join(data_path, c, f), os.path.join('./data', c, f))\n",
    "            im = Image.open(os.path.join('./data', c, f))\n",
    "            im.save(os.path.join('./data', c, f))\n",
    "        except (IOError, SyntaxError, UnidentifiedImageError) as e:\n",
    "            inv += 1\n",
    "            print(\"Nombre d'images invalides:\", inv, end= \"\\r\")"
   ]
  },
  {
   "cell_type": "code",
   "execution_count": 15,
   "metadata": {
    "ExecuteTime": {
     "end_time": "2023-05-14T19:07:16.149399Z",
     "start_time": "2023-05-14T19:07:14.011853Z"
    },
    "collapsed": false
   },
   "outputs": [],
   "source": [
    "# Diviser les données en données d'entrainement et données de test\n",
    "# Nous allons utiliser 95% des données pour l'entrainement et 5% pour le test\n",
    "# Nous allons stocker les données d'entrainement dans un dossier train et les données de test dans un dossier test\n",
    "\n",
    "# Créer les dossiers train et test\n",
    "for c in classes:\n",
    "    os.makedirs('./data/train/' + c, exist_ok=True)\n",
    "    os.makedirs('./data/test/' + c, exist_ok=True)\n",
    "\n",
    "pourcentage_train = 0.95\n",
    "\n",
    "os.makedirs('./data/train', exist_ok=True)\n",
    "os.makedirs('./data/test', exist_ok=True)\n",
    "\n",
    "for c in classes:\n",
    "    files = os.listdir(os.path.join('./data', c))\n",
    "    for f in files[:round(pourcentage_train * len(files))-1]:\n",
    "        shutil.copy(os.path.join('./data', c, f), os.path.join('./data/train', c, f))\n",
    "    for f in files[round(pourcentage_train * len(files))-1:]:\n",
    "        shutil.copy(os.path.join('./data', c, f), os.path.join('./data/test', c, f))"
   ]
  }
 ],
 "metadata": {
  "kernelspec": {
   "display_name": "Python 3",
   "language": "python",
   "name": "python3"
  },
  "language_info": {
   "codemirror_mode": {
    "name": "ipython",
    "version": 3
   },
   "file_extension": ".py",
   "mimetype": "text/x-python",
   "name": "python",
   "nbconvert_exporter": "python",
   "pygments_lexer": "ipython3",
   "version": "3.11.0"
  }
 },
 "nbformat": 4,
 "nbformat_minor": 0
}
